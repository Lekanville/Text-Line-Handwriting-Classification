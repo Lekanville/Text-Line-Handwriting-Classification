{
  "nbformat": 4,
  "nbformat_minor": 0,
  "metadata": {
    "accelerator": "GPU",
    "colab": {
      "name": "SVM and XGB.ipynb",
      "provenance": [],
      "collapsed_sections": [],
      "mount_file_id": "1fDluSZI7P8T7XgPGqpDYbnXAaO9br4_q",
      "authorship_tag": "ABX9TyM72fw1itgMBj/iTi/JO9ya",
      "include_colab_link": true
    },
    "kernelspec": {
      "display_name": "Python 3",
      "name": "python3"
    }
  },
  "cells": [
    {
      "cell_type": "markdown",
      "metadata": {
        "id": "view-in-github",
        "colab_type": "text"
      },
      "source": [
        "<a href=\"https://colab.research.google.com/github/Lekanville/Text-Line-Handwriting-Classification/blob/main/SVM_and_XGB.ipynb\" target=\"_parent\"><img src=\"https://colab.research.google.com/assets/colab-badge.svg\" alt=\"Open In Colab\"/></a>"
      ]
    },
    {
      "cell_type": "code",
      "metadata": {
        "id": "JJO1j1ZAwF7V"
      },
      "source": [
        "import os\n",
        "\n",
        "import matplotlib as mpl\n",
        "import matplotlib.pyplot as plt\n",
        "import seaborn as sns\n",
        "from IPython.display import display\n",
        "%matplotlib inline\n",
        "\n",
        "import pandas as pd\n",
        "import numpy as np\n",
        "\n",
        "from PIL import Image\n",
        "\n",
        "from skimage.feature import hog\n",
        "from skimage.color import rgb2grey\n",
        "\n",
        "from sklearn.model_selection import train_test_split\n",
        "from sklearn.metrics import accuracy_score\n",
        "from sklearn.preprocessing import StandardScaler\n",
        "from sklearn.decomposition import PCA\n",
        "from sklearn.svm import SVC\n",
        "\n",
        "from sklearn.metrics import roc_curve, auc, classification_report, confusion_matrix"
      ],
      "execution_count": null,
      "outputs": []
    },
    {
      "cell_type": "code",
      "metadata": {
        "id": "U53Ld4Opwb25"
      },
      "source": [
        "from numpy import save\n",
        "from numpy import load"
      ],
      "execution_count": null,
      "outputs": []
    },
    {
      "cell_type": "code",
      "metadata": {
        "id": "S29vSn-pwNw-"
      },
      "source": [
        "data = load('drive/MyDrive/Colab_Notebooks/Handwriting_Classification/data.npy')"
      ],
      "execution_count": null,
      "outputs": []
    },
    {
      "cell_type": "code",
      "metadata": {
        "id": "EAjpaEGJwS-b"
      },
      "source": [
        "labels = load('drive/MyDrive/Colab_Notebooks/Handwriting_Classification/labels.npy')"
      ],
      "execution_count": null,
      "outputs": []
    },
    {
      "cell_type": "code",
      "metadata": {
        "colab": {
          "base_uri": "https://localhost:8080/",
          "height": 170
        },
        "id": "1ZlElW2dw3HT",
        "outputId": "d29fb1e1-e702-4072-aed4-9727a872b9cf"
      },
      "source": [
        "plt.figure(figsize=(15, 2))\n",
        "plt.imshow(data[1881], cmap = 'gray')\n",
        "plt.title('Image', fontsize=12)\n",
        "plt.axis('off')"
      ],
      "execution_count": null,
      "outputs": [
        {
          "output_type": "execute_result",
          "data": {
            "text/plain": [
              "(-0.5, 255.5, 31.5, -0.5)"
            ]
          },
          "metadata": {
            "tags": []
          },
          "execution_count": 6
        },
        {
          "output_type": "display_data",
          "data": {
            "image/png": "[encoded data removed]",
            "text/plain": [
              "<Figure size 1080x144 with 1 Axes>"
            ]
          },
          "metadata": {
            "tags": [],
            "needs_background": "light"
          }
        }
      ]
    },
    {
      "cell_type": "code",
      "metadata": {
        "colab": {
          "base_uri": "https://localhost:8080/",
          "height": 111
        },
        "id": "cfbYQpOJwhMu",
        "outputId": "439d0f30-2c87-42f4-90b8-739576d04427"
      },
      "source": [
        "hog_features, hog_image = hog(data[1881],\n",
        "                              visualize=True,\n",
        "                              block_norm='L2-Hys',\n",
        "                              pixels_per_cell=(16, 16))\n",
        "\n",
        "plt.imshow(hog_image, cmap=mpl.cm.gray)"
      ],
      "execution_count": null,
      "outputs": [
        {
          "output_type": "execute_result",
          "data": {
            "text/plain": [
              "<matplotlib.image.AxesImage at 0x7fd02ae335f8>"
            ]
          },
          "metadata": {
            "tags": []
          },
          "execution_count": 7
        },
        {
          "output_type": "display_data",
          "data": {
            "image/png": "[encoded data removed]",
            "text/plain": [
              "<Figure size 432x288 with 1 Axes>"
            ]
          },
          "metadata": {
            "tags": [],
            "needs_background": "light"
          }
        }
      ]
    },
    {
      "cell_type": "code",
      "metadata": {
        "colab": {
          "base_uri": "https://localhost:8080/"
        },
        "id": "9IPwC8O7xKve",
        "outputId": "11b6c810-6a69-4bac-c29f-3467e029e469"
      },
      "source": [
        "def create_features(img):\n",
        "    # flatten three channel color image\n",
        "    color_features = img.flatten()\n",
        "    # convert image to greyscale\n",
        "    #grey_image = rgb2grey(img)\n",
        "    # get HOG features from greyscale image\n",
        "    hog_features = hog(img, block_norm='L2-Hys', pixels_per_cell=(16, 16))\n",
        "    # combine color and hog features into a single array\n",
        "    flat_features = np.hstack([color_features, hog_features])\n",
        "    return flat_features\n",
        "\n",
        "bombus_features = create_features(data[1881])\n",
        "\n",
        "print(bombus_features)"
      ],
      "execution_count": null,
      "outputs": [
        {
          "output_type": "stream",
          "text": [
            "[1. 1. 1. ... 1. 1. 1.]\n"
          ],
          "name": "stdout"
        }
      ]
    },
    {
      "cell_type": "code",
      "metadata": {
        "id": "QFmQfcX0ygvo"
      },
      "source": [
        "def create_feature_matrix(label_dataframe):\n",
        "    features_list = []\n",
        "    \n",
        "    for img in label_dataframe:\n",
        "        # get features for image\n",
        "        image_features = create_features(img)\n",
        "        features_list.append(image_features)\n",
        "        \n",
        "    # convert list of arrays into a matrix\n",
        "    feature_matrix = np.array(features_list)\n",
        "    return feature_matrix\n",
        "\n",
        "# run create_feature_matrix on our dataframe of images\n",
        "feature_matrix = create_feature_matrix(data)"
      ],
      "execution_count": null,
      "outputs": []
    },
    {
      "cell_type": "code",
      "metadata": {
        "colab": {
          "base_uri": "https://localhost:8080/"
        },
        "id": "j3147Tnnza9F",
        "outputId": "5bad7590-9eee-4ea9-eca3-27e4f0c41f41"
      },
      "source": [
        "feature_matrix"
      ],
      "execution_count": null,
      "outputs": [
        {
          "output_type": "execute_result",
          "data": {
            "text/plain": [
              "array([[0.99215686, 0.99705882, 0.98823529, ..., 1.        , 1.        ,\n",
              "        1.        ],\n",
              "       [0.98823529, 0.97058824, 0.60294118, ..., 1.        , 1.        ,\n",
              "        1.        ],\n",
              "       [0.98235294, 0.97254902, 0.97254902, ..., 1.        , 1.        ,\n",
              "        1.        ],\n",
              "       ...,\n",
              "       [1.        , 1.        , 1.        , ..., 1.        , 1.        ,\n",
              "        1.        ],\n",
              "       [1.        , 1.        , 1.        , ..., 1.        , 1.        ,\n",
              "        1.        ],\n",
              "       [1.        , 1.        , 1.        , ..., 1.        , 1.        ,\n",
              "        1.        ]])"
            ]
          },
          "metadata": {
            "tags": []
          },
          "execution_count": 10
        }
      ]
    },
    {
      "cell_type": "code",
      "metadata": {
        "id": "3wtjjjOp4l3G",
        "colab": {
          "base_uri": "https://localhost:8080/"
        },
        "outputId": "20eacb57-4ee3-4dcd-cc5c-9731b7bd748d"
      },
      "source": [
        "save('drive/MyDrive/Colab_Notebooks/Handwriting_Classification/feature_matrix.npy', feature_matrix)"
      ],
      "execution_count": null,
      "outputs": [
        {
          "output_type": "stream",
          "text": [
            "'feature_matrix)' was not found in history, as a file, url, nor in the user namespace.\n"
          ],
          "name": "stdout"
        }
      ]
    },
    {
      "cell_type": "code",
      "metadata": {
        "id": "2JysoP4s1lFa"
      },
      "source": [
        "labels = load('drive/MyDrive/Colab_Notebooks/Handwriting_Classification/labels.npy')"
      ],
      "execution_count": null,
      "outputs": []
    },
    {
      "cell_type": "code",
      "metadata": {
        "id": "nsLxxg6q0WX3"
      },
      "source": [
        "feature_matrix = load('drive/MyDrive/Colab_Notebooks/Handwriting_Classification/feature_matrix.npy')"
      ],
      "execution_count": null,
      "outputs": []
    },
    {
      "cell_type": "code",
      "metadata": {
        "colab": {
          "base_uri": "https://localhost:8080/"
        },
        "id": "WhkNdowC-iTk",
        "outputId": "d3f94c11-3eab-44fa-aee1-216cec5e261d"
      },
      "source": [
        "feature_matrix.shape"
      ],
      "execution_count": null,
      "outputs": [
        {
          "output_type": "execute_result",
          "data": {
            "text/plain": [
              "(18820, 8192)"
            ]
          },
          "metadata": {
            "tags": []
          },
          "execution_count": 11
        }
      ]
    },
    {
      "cell_type": "code",
      "metadata": {
        "colab": {
          "base_uri": "https://localhost:8080/"
        },
        "id": "jpleKhBO9NAP",
        "outputId": "80d9bb7f-123d-4260-b6b7-093407a13499"
      },
      "source": [
        "# get shape of feature matrix\n",
        "print('Feature matrix shape is: ', feature_matrix.shape)\n",
        "\n",
        "pca = PCA(n_components=500)\n",
        "# use fit_transform to run PCA on our standardized matrix\n",
        "pca_features = pca.fit_transform(feature_matrix)\n",
        "# look at new shape\n",
        "print('PCA matrix shape is: ', pca_features.shape)"
      ],
      "execution_count": null,
      "outputs": [
        {
          "output_type": "stream",
          "text": [
            "Feature matrix shape is:  (18820, 8192)\n",
            "PCA matrix shape is:  (18820, 500)\n"
          ],
          "name": "stdout"
        }
      ]
    },
    {
      "cell_type": "code",
      "metadata": {
        "id": "SJ7Qa8gz03u1"
      },
      "source": [
        "X = pca_features\n",
        "y = labels\n",
        "X_train, X_test, y_train, y_test = train_test_split(X, y, test_size=0.1, random_state=101)"
      ],
      "execution_count": null,
      "outputs": []
    },
    {
      "cell_type": "code",
      "metadata": {
        "id": "c7U6vQSL17qS"
      },
      "source": [
        "svc_model = SVC(probability = True)"
      ],
      "execution_count": null,
      "outputs": []
    },
    {
      "cell_type": "code",
      "metadata": {
        "colab": {
          "base_uri": "https://localhost:8080/"
        },
        "id": "Qnh0D4XK2HJm",
        "outputId": "4d82fbb0-4071-4585-cf6e-89676dd14d9a"
      },
      "source": [
        "svc_model.fit(X_train, y_train)"
      ],
      "execution_count": null,
      "outputs": [
        {
          "output_type": "execute_result",
          "data": {
            "text/plain": [
              "SVC(C=1.0, break_ties=False, cache_size=200, class_weight=None, coef0=0.0,\n",
              "    decision_function_shape='ovr', degree=3, gamma='scale', kernel='rbf',\n",
              "    max_iter=-1, probability=True, random_state=None, shrinking=True, tol=0.001,\n",
              "    verbose=False)"
            ]
          },
          "metadata": {
            "tags": []
          },
          "execution_count": 15
        }
      ]
    },
    {
      "cell_type": "code",
      "metadata": {
        "id": "6ewegtwT2VXm"
      },
      "source": [
        "y_pred = svc_model.predict(X_test)"
      ],
      "execution_count": null,
      "outputs": []
    },
    {
      "cell_type": "code",
      "metadata": {
        "colab": {
          "base_uri": "https://localhost:8080/"
        },
        "id": "-dcIOGK23EXm",
        "outputId": "573a2f5d-01ee-49f5-962e-0db08c75ea6b"
      },
      "source": [
        "X_test"
      ],
      "execution_count": null,
      "outputs": [
        {
          "output_type": "execute_result",
          "data": {
            "text/plain": [
              "array([[ 1.51628886e+00, -2.41578837e+00,  1.00157512e+00, ...,\n",
              "        -1.89807496e-01, -1.38033604e-01, -1.68995681e-01],\n",
              "       [-1.96867600e+00, -1.91819874e-01,  3.92415166e-01, ...,\n",
              "        -9.83310903e-03, -1.13288830e-04,  3.42196657e-02],\n",
              "       [-5.45062832e-01, -8.10451647e-01, -1.34965783e+00, ...,\n",
              "        -8.48269308e-02, -1.27057685e-01, -1.12136726e-01],\n",
              "       ...,\n",
              "       [ 3.03482173e+00,  4.78371341e+00,  5.42391587e+00, ...,\n",
              "         3.56185255e-01, -2.74821728e-01,  1.48409701e-01],\n",
              "       [ 1.63154057e+00,  1.66480305e+00, -5.93860292e-01, ...,\n",
              "         1.41902437e-01, -2.20332019e-01, -1.06235321e-01],\n",
              "       [-8.45516164e-01,  6.14627454e-01, -5.15915499e-01, ...,\n",
              "        -3.21384337e-02,  5.13353306e-03, -4.81425744e-02]])"
            ]
          },
          "metadata": {
            "tags": []
          },
          "execution_count": 17
        }
      ]
    },
    {
      "cell_type": "code",
      "metadata": {
        "colab": {
          "base_uri": "https://localhost:8080/"
        },
        "id": "IKJ9bYnD3OjH",
        "outputId": "dd4a65a1-580c-4400-af62-c6f35b2f76c2"
      },
      "source": [
        "print(confusion_matrix(y_test, y_pred))\n",
        "print('\\n')\n",
        "print(classification_report(y_test, y_pred))"
      ],
      "execution_count": null,
      "outputs": [
        {
          "output_type": "stream",
          "text": [
            "[[ 86   9   9   5   2   0  10   2   4   0]\n",
            " [  8 172  13   3   5   1   5   6   2   1]\n",
            " [  2   3 183  10   0   0   5   1   2   4]\n",
            " [  1   3  11 139   1   0   5   0   8  21]\n",
            " [  2   5   2   1 164   4   0   0   1   8]\n",
            " [  2   7   4   2  26 102   2   2   2   2]\n",
            " [  2   2  13   7   0   2 177  10   9   2]\n",
            " [  1   5   3   3   1   1  15 167   3   4]\n",
            " [  0   2   0   5   0   0   4   4 122  45]\n",
            " [  1   0   0   7   1   0   0   2  13 169]]\n",
            "\n",
            "\n",
            "              precision    recall  f1-score   support\n",
            "\n",
            "           1       0.82      0.68      0.74       127\n",
            "           2       0.83      0.80      0.81       216\n",
            "           3       0.77      0.87      0.82       210\n",
            "           4       0.76      0.74      0.75       189\n",
            "           5       0.82      0.88      0.85       187\n",
            "           6       0.93      0.68      0.78       151\n",
            "           7       0.79      0.79      0.79       224\n",
            "           8       0.86      0.82      0.84       203\n",
            "           9       0.73      0.67      0.70       182\n",
            "          10       0.66      0.88      0.75       193\n",
            "\n",
            "    accuracy                           0.79      1882\n",
            "   macro avg       0.80      0.78      0.78      1882\n",
            "weighted avg       0.79      0.79      0.79      1882\n",
            "\n"
          ],
          "name": "stdout"
        }
      ]
    },
    {
      "cell_type": "code",
      "metadata": {
        "colab": {
          "base_uri": "https://localhost:8080/"
        },
        "id": "7sBsPiLP3gfj",
        "outputId": "8c32e1a3-1ce1-46c5-dd07-c3e884a184b9"
      },
      "source": [
        "accuracy = accuracy_score(y_test, y_pred)\n",
        "print('Model accuracy is: ', accuracy)"
      ],
      "execution_count": null,
      "outputs": [
        {
          "output_type": "stream",
          "text": [
            "Model accuracy is:  0.7869287991498406\n"
          ],
          "name": "stdout"
        }
      ]
    },
    {
      "cell_type": "code",
      "metadata": {
        "colab": {
          "base_uri": "https://localhost:8080/",
          "height": 294
        },
        "id": "a54s4iZn4dfM",
        "outputId": "c1084009-0bf3-4373-f159-fa578bf43b1c"
      },
      "source": [
        "# predict probabilities for X_test using predict_proba\n",
        "probabilities = svc_model.predict_proba(X_test)\n",
        "\n",
        "# select the probabilities for label 1.0\n",
        "y_proba = probabilities[:, 1]\n",
        "\n",
        "# calculate false positive rate and true positive rate at different thresholds\n",
        "false_positive_rate, true_positive_rate, thresholds = roc_curve(y_test, y_proba, pos_label=1)\n",
        "\n",
        "# calculate AUC\n",
        "roc_auc = auc(false_positive_rate, true_positive_rate)\n",
        "\n",
        "plt.title('Receiver Operating Characteristic')\n",
        "# plot the false positive rate on the x axis and the true positive rate on the y axis\n",
        "roc_plot = plt.plot(false_positive_rate,\n",
        "                    true_positive_rate,\n",
        "                    label='AUC = {:0.2f}'.format(roc_auc))\n",
        "\n",
        "plt.legend(loc=0)\n",
        "plt.plot([0,1], [0,1], ls='--')\n",
        "plt.ylabel('True Positive Rate')\n",
        "plt.xlabel('False Positive Rate');"
      ],
      "execution_count": null,
      "outputs": [
        {
          "output_type": "display_data",
          "data": {
            "image/png": "[encoded data removed]",
            "text/plain": [
              "<Figure size 432x288 with 1 Axes>"
            ]
          },
          "metadata": {
            "tags": [],
            "needs_background": "light"
          }
        }
      ]
    },
    {
      "cell_type": "code",
      "metadata": {
        "colab": {
          "base_uri": "https://localhost:8080/"
        },
        "id": "13S47g0H6Mbg",
        "outputId": "6ec289f2-f3fb-46f9-eb7a-e11ae143ed7b"
      },
      "source": [
        "y_test"
      ],
      "execution_count": null,
      "outputs": [
        {
          "output_type": "execute_result",
          "data": {
            "text/plain": [
              "array([1, 9, 9, ..., 5, 7, 8])"
            ]
          },
          "metadata": {
            "tags": []
          },
          "execution_count": 48
        }
      ]
    },
    {
      "cell_type": "markdown",
      "metadata": {
        "id": "a0EmW-HZ86QP"
      },
      "source": [
        ""
      ]
    },
    {
      "cell_type": "markdown",
      "metadata": {
        "id": "QAUbjW0988Bq"
      },
      "source": [
        "XGBoost"
      ]
    },
    {
      "cell_type": "code",
      "metadata": {
        "id": "iV2q5nap8SeF"
      },
      "source": [
        "import xgboost as xgb"
      ],
      "execution_count": null,
      "outputs": []
    },
    {
      "cell_type": "code",
      "metadata": {
        "id": "2bEnZCcK8-p-"
      },
      "source": [
        "xg_model = xgb.XGBClassifier(objective='multi:softmax', gamma = 0.5, max_delta_step = 0.1, learning_rate = 0.01, max_depth = 4, min_child_weight=0.2, nthread=4, reg_alpha = 0.5,\n",
        "                             n_estimators = 10, reg_lambda=0.8, scale_pos_weight = 1, silent = False, subsample = 0.8)"
      ],
      "execution_count": null,
      "outputs": []
    },
    {
      "cell_type": "code",
      "metadata": {
        "id": "d153yICL1iEt"
      },
      "source": [
        "xg_model = xgb.XGBClassifier(objective='multi:softmax', probability = True)"
      ],
      "execution_count": null,
      "outputs": []
    },
    {
      "cell_type": "code",
      "metadata": {
        "id": "b-m_kPWP9Nc3"
      },
      "source": [
        "xg_model.fit(X_train,y_train)\n",
        "\n",
        "xg_pred = xg_model.predict(X_test)"
      ],
      "execution_count": null,
      "outputs": []
    },
    {
      "cell_type": "code",
      "metadata": {
        "colab": {
          "base_uri": "https://localhost:8080/"
        },
        "id": "K7Y2nLi8BqHl",
        "outputId": "a08495ac-ff72-4f09-9cf4-dbcda6cb1a07"
      },
      "source": [
        "print(confusion_matrix(y_test, xg_pred))\n",
        "print('\\n')\n",
        "print(classification_report(y_test, xg_pred))"
      ],
      "execution_count": null,
      "outputs": [
        {
          "output_type": "stream",
          "text": [
            "[[ 59  20  16   6   5   1   9   2   9   0]\n",
            " [ 17 142  10   4  10   2  10  13   6   2]\n",
            " [  3   2 164  11   1   1  14   2   6   6]\n",
            " [  0   1   9 137   0   0   5   1  11  25]\n",
            " [  3  11   9   2 139  10   4   1   0   8]\n",
            " [  2   9  10   3  37  80   2   2   3   3]\n",
            " [  5   2  20  12   3   1 131  34  14   2]\n",
            " [  7   3   2   5   3   1  30 144   2   6]\n",
            " [  1   2   2   9   0   0   6   1 109  52]\n",
            " [  0   0   0  10   1   0   0   2  20 160]]\n",
            "\n",
            "\n",
            "              precision    recall  f1-score   support\n",
            "\n",
            "           1       0.61      0.46      0.53       127\n",
            "           2       0.74      0.66      0.70       216\n",
            "           3       0.68      0.78      0.73       210\n",
            "           4       0.69      0.72      0.71       189\n",
            "           5       0.70      0.74      0.72       187\n",
            "           6       0.83      0.53      0.65       151\n",
            "           7       0.62      0.58      0.60       224\n",
            "           8       0.71      0.71      0.71       203\n",
            "           9       0.61      0.60      0.60       182\n",
            "          10       0.61      0.83      0.70       193\n",
            "\n",
            "    accuracy                           0.67      1882\n",
            "   macro avg       0.68      0.66      0.66      1882\n",
            "weighted avg       0.68      0.67      0.67      1882\n",
            "\n"
          ],
          "name": "stdout"
        }
      ]
    },
    {
      "cell_type": "code",
      "metadata": {
        "colab": {
          "base_uri": "https://localhost:8080/"
        },
        "id": "x7K4vSJQB5nt",
        "outputId": "4134d9f9-c040-498c-880e-454a23d09296"
      },
      "source": [
        "print(X_train.shape)\n",
        "print(X_test.shape)\n",
        "print(y_train.shape)\n",
        "print(y_test.shape)"
      ],
      "execution_count": null,
      "outputs": [
        {
          "output_type": "stream",
          "text": [
            "(16938, 500)\n",
            "(1882, 500)\n",
            "(16938,)\n",
            "(1882,)\n"
          ],
          "name": "stdout"
        }
      ]
    },
    {
      "cell_type": "code",
      "metadata": {
        "id": "0MpCR8jhCLgT",
        "colab": {
          "base_uri": "https://localhost:8080/",
          "height": 294
        },
        "outputId": "ed2b8acc-afbc-4157-ffcd-2896ce259bbb"
      },
      "source": [
        "# predict probabilities for X_test using predict_proba\n",
        "xgb_prob = xg_model.predict_proba(X_test)\n",
        "\n",
        "# select the probabilities for label 1.0\n",
        "y_proba = xgb_prob[:, 1]\n",
        "\n",
        "# calculate false positive rate and true positive rate at different thresholds\n",
        "false_positive_rate, true_positive_rate, thresholds = roc_curve(y_test, y_proba, pos_label=1)\n",
        "\n",
        "# calculate AUC\n",
        "roc_auc = auc(false_positive_rate, true_positive_rate)\n",
        "\n",
        "plt.title('Receiver Operating Characteristic')\n",
        "# plot the false positive rate on the x axis and the true positive rate on the y axis\n",
        "roc_plot = plt.plot(false_positive_rate,\n",
        "                    true_positive_rate,\n",
        "                    label='AUC = {:0.2f}'.format(roc_auc))\n",
        "\n",
        "plt.legend(loc=0)\n",
        "plt.plot([0,1], [0,1], ls='--')\n",
        "plt.ylabel('True Positive Rate')\n",
        "plt.xlabel('False Positive Rate');"
      ],
      "execution_count": null,
      "outputs": [
        {
          "output_type": "display_data",
          "data": {
            "image/png": "[encoded data removed]",
            "text/plain": [
              "<Figure size 432x288 with 1 Axes>"
            ]
          },
          "metadata": {
            "tags": [],
            "needs_background": "light"
          }
        }
      ]
    },
    {
      "cell_type": "markdown",
      "metadata": {
        "id": "RYzExDLaT3Vc"
      },
      "source": [
        "Another Feature extraction"
      ]
    },
    {
      "cell_type": "code",
      "metadata": {
        "id": "4Wwhs3kAXt8E"
      },
      "source": [
        "import cv2\n",
        "import mahotas"
      ],
      "execution_count": null,
      "outputs": []
    },
    {
      "cell_type": "code",
      "metadata": {
        "id": "arFEgo4aT22n"
      },
      "source": [
        "def fd_hu_moments(image):\n",
        "    features_list_hu_moments = []\n",
        "    for img in image:\n",
        "      features = cv2.HuMoments(cv2.moments(img)).flatten()\n",
        "      features_list_hu_moments.append(features)\n",
        "\n",
        "    return features_list_hu_moments\n",
        "\n",
        "def fd_haralick(image):\n",
        "    features_list_fd_haralick = []\n",
        "    for img in image:\n",
        "      haralick = mahotas.features.haralick(img).mean(axis=0)\n",
        "      features_list_fd_haralick.append(haralick)\n",
        "    return features_list_fd_haralick\n",
        " \n",
        "def fd_histogram(image, mask=None):\n",
        "    fd_histogram = []\n",
        "\n",
        "    for img in image:\n",
        "\n",
        "      # convert the image to HSV color-space\n",
        "      img= cat(3, zeros(size(img)), zeros(size(img)), double(img));\n",
        "      # compute the color histogram\n",
        "      hist  = cv2.calcHist([img], [0, 1, 2], None, [bins, bins, bins], [0, 256, 0, 256, 0, 256])\n",
        "      # normalize the histogram\n",
        "      cv2.normalize(hist, hist)\n",
        "      fd_histogram.append(hist.flatten())\n",
        "    return fd_histogram\n"
      ],
      "execution_count": null,
      "outputs": []
    },
    {
      "cell_type": "code",
      "metadata": {
        "colab": {
          "base_uri": "https://localhost:8080/",
          "height": 345
        },
        "id": "am7CKMUVXCGS",
        "outputId": "50f21cd1-a3b1-40b9-ff4b-70d0182a1395"
      },
      "source": [
        "global_feature = np.hstack([fd_histogram(data), fd_hu_moments(data)])\n",
        "scaler = MinMaxScaler(feature_range=(0, 1))\n",
        "#Normalize The feature vectors...\n",
        "rescaled_features = scaler.fit_transform(global_features)"
      ],
      "execution_count": null,
      "outputs": [
        {
          "output_type": "error",
          "ename": "NameError",
          "evalue": "ignored",
          "traceback": [
            "\u001b[0;31m---------------------------------------------------------------------------\u001b[0m",
            "\u001b[0;31mNameError\u001b[0m                                 Traceback (most recent call last)",
            "\u001b[0;32m<ipython-input-31-54eb82caea90>\u001b[0m in \u001b[0;36m<module>\u001b[0;34m()\u001b[0m\n\u001b[0;32m----> 1\u001b[0;31m \u001b[0mglobal_feature\u001b[0m \u001b[0;34m=\u001b[0m \u001b[0mnp\u001b[0m\u001b[0;34m.\u001b[0m\u001b[0mhstack\u001b[0m\u001b[0;34m(\u001b[0m\u001b[0;34m[\u001b[0m\u001b[0mfd_histogram\u001b[0m\u001b[0;34m(\u001b[0m\u001b[0mdata\u001b[0m\u001b[0;34m)\u001b[0m\u001b[0;34m,\u001b[0m \u001b[0mfd_hu_moments\u001b[0m\u001b[0;34m(\u001b[0m\u001b[0mdata\u001b[0m\u001b[0;34m)\u001b[0m\u001b[0;34m]\u001b[0m\u001b[0;34m)\u001b[0m\u001b[0;34m\u001b[0m\u001b[0;34m\u001b[0m\u001b[0m\n\u001b[0m\u001b[1;32m      2\u001b[0m \u001b[0mscaler\u001b[0m \u001b[0;34m=\u001b[0m \u001b[0mMinMaxScaler\u001b[0m\u001b[0;34m(\u001b[0m\u001b[0mfeature_range\u001b[0m\u001b[0;34m=\u001b[0m\u001b[0;34m(\u001b[0m\u001b[0;36m0\u001b[0m\u001b[0;34m,\u001b[0m \u001b[0;36m1\u001b[0m\u001b[0;34m)\u001b[0m\u001b[0;34m)\u001b[0m\u001b[0;34m\u001b[0m\u001b[0;34m\u001b[0m\u001b[0m\n\u001b[1;32m      3\u001b[0m \u001b[0;31m#Normalize The feature vectors...\u001b[0m\u001b[0;34m\u001b[0m\u001b[0;34m\u001b[0m\u001b[0;34m\u001b[0m\u001b[0m\n\u001b[1;32m      4\u001b[0m \u001b[0mrescaled_features\u001b[0m \u001b[0;34m=\u001b[0m \u001b[0mscaler\u001b[0m\u001b[0;34m.\u001b[0m\u001b[0mfit_transform\u001b[0m\u001b[0;34m(\u001b[0m\u001b[0mglobal_features\u001b[0m\u001b[0;34m)\u001b[0m\u001b[0;34m\u001b[0m\u001b[0;34m\u001b[0m\u001b[0m\n",
            "\u001b[0;32m<ipython-input-30-0b050040cf59>\u001b[0m in \u001b[0;36mfd_histogram\u001b[0;34m(image, mask)\u001b[0m\n\u001b[1;32m     20\u001b[0m \u001b[0;34m\u001b[0m\u001b[0m\n\u001b[1;32m     21\u001b[0m       \u001b[0;31m# convert the image to HSV color-space\u001b[0m\u001b[0;34m\u001b[0m\u001b[0;34m\u001b[0m\u001b[0;34m\u001b[0m\u001b[0m\n\u001b[0;32m---> 22\u001b[0;31m       \u001b[0mimg\u001b[0m\u001b[0;34m=\u001b[0m \u001b[0mcat\u001b[0m\u001b[0;34m(\u001b[0m\u001b[0;36m3\u001b[0m\u001b[0;34m,\u001b[0m \u001b[0mzeros\u001b[0m\u001b[0;34m(\u001b[0m\u001b[0msize\u001b[0m\u001b[0;34m(\u001b[0m\u001b[0mimg\u001b[0m\u001b[0;34m)\u001b[0m\u001b[0;34m)\u001b[0m\u001b[0;34m,\u001b[0m \u001b[0mzeros\u001b[0m\u001b[0;34m(\u001b[0m\u001b[0msize\u001b[0m\u001b[0;34m(\u001b[0m\u001b[0mimg\u001b[0m\u001b[0;34m)\u001b[0m\u001b[0;34m)\u001b[0m\u001b[0;34m,\u001b[0m \u001b[0mdouble\u001b[0m\u001b[0;34m(\u001b[0m\u001b[0mimg\u001b[0m\u001b[0;34m)\u001b[0m\u001b[0;34m)\u001b[0m\u001b[0;34m;\u001b[0m\u001b[0;34m\u001b[0m\u001b[0;34m\u001b[0m\u001b[0m\n\u001b[0m\u001b[1;32m     23\u001b[0m       \u001b[0;31m# compute the color histogram\u001b[0m\u001b[0;34m\u001b[0m\u001b[0;34m\u001b[0m\u001b[0;34m\u001b[0m\u001b[0m\n\u001b[1;32m     24\u001b[0m       \u001b[0mhist\u001b[0m  \u001b[0;34m=\u001b[0m \u001b[0mcv2\u001b[0m\u001b[0;34m.\u001b[0m\u001b[0mcalcHist\u001b[0m\u001b[0;34m(\u001b[0m\u001b[0;34m[\u001b[0m\u001b[0mimg\u001b[0m\u001b[0;34m]\u001b[0m\u001b[0;34m,\u001b[0m \u001b[0;34m[\u001b[0m\u001b[0;36m0\u001b[0m\u001b[0;34m,\u001b[0m \u001b[0;36m1\u001b[0m\u001b[0;34m,\u001b[0m \u001b[0;36m2\u001b[0m\u001b[0;34m]\u001b[0m\u001b[0;34m,\u001b[0m \u001b[0;32mNone\u001b[0m\u001b[0;34m,\u001b[0m \u001b[0;34m[\u001b[0m\u001b[0mbins\u001b[0m\u001b[0;34m,\u001b[0m \u001b[0mbins\u001b[0m\u001b[0;34m,\u001b[0m \u001b[0mbins\u001b[0m\u001b[0;34m]\u001b[0m\u001b[0;34m,\u001b[0m \u001b[0;34m[\u001b[0m\u001b[0;36m0\u001b[0m\u001b[0;34m,\u001b[0m \u001b[0;36m256\u001b[0m\u001b[0;34m,\u001b[0m \u001b[0;36m0\u001b[0m\u001b[0;34m,\u001b[0m \u001b[0;36m256\u001b[0m\u001b[0;34m,\u001b[0m \u001b[0;36m0\u001b[0m\u001b[0;34m,\u001b[0m \u001b[0;36m256\u001b[0m\u001b[0;34m]\u001b[0m\u001b[0;34m)\u001b[0m\u001b[0;34m\u001b[0m\u001b[0;34m\u001b[0m\u001b[0m\n",
            "\u001b[0;31mNameError\u001b[0m: name 'cat' is not defined"
          ]
        }
      ]
    },
    {
      "cell_type": "code",
      "metadata": {
        "colab": {
          "base_uri": "https://localhost:8080/"
        },
        "id": "HDw5bj2HXp0x",
        "outputId": "a81df9f8-d91e-4f30-f4ce-be6d041ccbf9"
      },
      "source": [
        "global_feature.shape"
      ],
      "execution_count": null,
      "outputs": [
        {
          "output_type": "execute_result",
          "data": {
            "text/plain": [
              "(18820, 7)"
            ]
          },
          "metadata": {
            "tags": []
          },
          "execution_count": 28
        }
      ]
    },
    {
      "cell_type": "code",
      "metadata": {
        "colab": {
          "base_uri": "https://localhost:8080/"
        },
        "id": "1Z8OWxciZjLq",
        "outputId": "c9839279-1bf5-457a-ccf1-93729fa50d05"
      },
      "source": [
        "pip install pyqt4"
      ],
      "execution_count": null,
      "outputs": [
        {
          "output_type": "stream",
          "text": [
            "\u001b[31mERROR: Could not find a version that satisfies the requirement pyqt4 (from versions: none)\u001b[0m\n",
            "\u001b[31mERROR: No matching distribution found for pyqt4\u001b[0m\n"
          ],
          "name": "stdout"
        }
      ]
    },
    {
      "cell_type": "code",
      "metadata": {
        "colab": {
          "base_uri": "https://localhost:8080/"
        },
        "id": "o0jUkdkyY5ag",
        "outputId": "7cad1fb8-aa2f-44b7-9cb5-5e747c235bf3"
      },
      "source": [
        "data"
      ],
      "execution_count": null,
      "outputs": [
        {
          "output_type": "execute_result",
          "data": {
            "text/plain": [
              "array([[[0.99215686, 0.99705882, 0.98823529, ..., 1.        ,\n",
              "         1.        , 1.        ],\n",
              "        [0.99411765, 0.99313725, 0.99705882, ..., 1.        ,\n",
              "         1.        , 1.        ],\n",
              "        [0.98627451, 0.99313725, 0.99607843, ..., 1.        ,\n",
              "         1.        , 1.        ],\n",
              "        ...,\n",
              "        [1.        , 1.        , 1.        , ..., 1.        ,\n",
              "         1.        , 1.        ],\n",
              "        [1.        , 1.        , 1.        , ..., 1.        ,\n",
              "         1.        , 1.        ],\n",
              "        [1.        , 1.        , 1.        , ..., 1.        ,\n",
              "         1.        , 1.        ]],\n",
              "\n",
              "       [[0.98823529, 0.97058824, 0.60294118, ..., 1.        ,\n",
              "         1.        , 1.        ],\n",
              "        [0.97058824, 0.99705882, 0.96078431, ..., 1.        ,\n",
              "         1.        , 1.        ],\n",
              "        [0.97647059, 0.97745098, 0.97647059, ..., 1.        ,\n",
              "         1.        , 1.        ],\n",
              "        ...,\n",
              "        [1.        , 1.        , 1.        , ..., 1.        ,\n",
              "         1.        , 1.        ],\n",
              "        [1.        , 1.        , 1.        , ..., 1.        ,\n",
              "         1.        , 1.        ],\n",
              "        [1.        , 1.        , 1.        , ..., 1.        ,\n",
              "         1.        , 1.        ]],\n",
              "\n",
              "       [[0.98235294, 0.97254902, 0.97254902, ..., 1.        ,\n",
              "         1.        , 1.        ],\n",
              "        [0.99901961, 0.99411765, 0.99411765, ..., 1.        ,\n",
              "         1.        , 1.        ],\n",
              "        [0.99803922, 0.99803922, 0.99803922, ..., 1.        ,\n",
              "         1.        , 1.        ],\n",
              "        ...,\n",
              "        [1.        , 1.        , 1.        , ..., 1.        ,\n",
              "         1.        , 1.        ],\n",
              "        [1.        , 1.        , 1.        , ..., 1.        ,\n",
              "         1.        , 1.        ],\n",
              "        [1.        , 1.        , 1.        , ..., 1.        ,\n",
              "         1.        , 1.        ]],\n",
              "\n",
              "       ...,\n",
              "\n",
              "       [[1.        , 1.        , 1.        , ..., 1.        ,\n",
              "         1.        , 1.        ],\n",
              "        [1.        , 1.        , 1.        , ..., 1.        ,\n",
              "         1.        , 1.        ],\n",
              "        [1.        , 1.        , 1.        , ..., 1.        ,\n",
              "         1.        , 1.        ],\n",
              "        ...,\n",
              "        [1.        , 1.        , 1.        , ..., 1.        ,\n",
              "         1.        , 1.        ],\n",
              "        [1.        , 1.        , 1.        , ..., 1.        ,\n",
              "         1.        , 1.        ],\n",
              "        [1.        , 1.        , 1.        , ..., 1.        ,\n",
              "         1.        , 1.        ]],\n",
              "\n",
              "       [[1.        , 1.        , 1.        , ..., 1.        ,\n",
              "         1.        , 1.        ],\n",
              "        [1.        , 1.        , 1.        , ..., 1.        ,\n",
              "         1.        , 1.        ],\n",
              "        [1.        , 0.99901961, 1.        , ..., 1.        ,\n",
              "         1.        , 1.        ],\n",
              "        ...,\n",
              "        [1.        , 1.        , 1.        , ..., 1.        ,\n",
              "         1.        , 1.        ],\n",
              "        [1.        , 1.        , 1.        , ..., 1.        ,\n",
              "         1.        , 1.        ],\n",
              "        [1.        , 1.        , 1.        , ..., 1.        ,\n",
              "         1.        , 1.        ]],\n",
              "\n",
              "       [[1.        , 1.        , 1.        , ..., 1.        ,\n",
              "         1.        , 1.        ],\n",
              "        [1.        , 1.        , 1.        , ..., 1.        ,\n",
              "         1.        , 1.        ],\n",
              "        [1.        , 1.        , 1.        , ..., 1.        ,\n",
              "         1.        , 1.        ],\n",
              "        ...,\n",
              "        [1.        , 1.        , 1.        , ..., 1.        ,\n",
              "         1.        , 1.        ],\n",
              "        [1.        , 1.        , 1.        , ..., 1.        ,\n",
              "         1.        , 1.        ],\n",
              "        [1.        , 1.        , 1.        , ..., 1.        ,\n",
              "         1.        , 1.        ]]])"
            ]
          },
          "metadata": {
            "tags": []
          },
          "execution_count": 23
        }
      ]
    },
    {
      "cell_type": "code",
      "metadata": {
        "id": "sRTK9Btwbjm7"
      },
      "source": [
        ""
      ],
      "execution_count": null,
      "outputs": []
    },
    {
      "cell_type": "markdown",
      "metadata": {
        "id": "Y3L4QN5yI-dU"
      },
      "source": [
        ""
      ]
    },
    {
      "cell_type": "markdown",
      "metadata": {
        "id": "oMSehDC4I_Z5"
      },
      "source": [
        "AUR-ROC for Muliticlass Classifier"
      ]
    },
    {
      "cell_type": "code",
      "metadata": {
        "id": "LNo6HBEhJS1a"
      },
      "source": [
        "from sklearn.multiclass import OneVsRestClassifier"
      ],
      "execution_count": null,
      "outputs": []
    },
    {
      "cell_type": "code",
      "metadata": {
        "id": "ppyOEk20JRRd"
      },
      "source": [
        "clf = OneVsRestClassifier(SVC(probability = True))"
      ],
      "execution_count": null,
      "outputs": []
    },
    {
      "cell_type": "code",
      "metadata": {
        "colab": {
          "base_uri": "https://localhost:8080/"
        },
        "id": "fWT_UKpnJ1ek",
        "outputId": "182db646-7673-40dc-f5fd-ab09cdc564c1"
      },
      "source": [
        "clf.fit(X_train, y_train)"
      ],
      "execution_count": null,
      "outputs": [
        {
          "output_type": "execute_result",
          "data": {
            "text/plain": [
              "OneVsRestClassifier(estimator=SVC(C=1.0, break_ties=False, cache_size=200,\n",
              "                                  class_weight=None, coef0=0.0,\n",
              "                                  decision_function_shape='ovr', degree=3,\n",
              "                                  gamma='scale', kernel='rbf', max_iter=-1,\n",
              "                                  probability=True, random_state=None,\n",
              "                                  shrinking=True, tol=0.001, verbose=False),\n",
              "                    n_jobs=None)"
            ]
          },
          "metadata": {
            "tags": []
          },
          "execution_count": 38
        }
      ]
    },
    {
      "cell_type": "code",
      "metadata": {
        "id": "tFqiZOFxJ4-5"
      },
      "source": [
        "pred = clf.predict(X_test)"
      ],
      "execution_count": null,
      "outputs": []
    },
    {
      "cell_type": "code",
      "metadata": {
        "colab": {
          "base_uri": "https://localhost:8080/"
        },
        "id": "W4-RmDE8UVxm",
        "outputId": "272d34b2-1521-4925-c794-30f5f1c2cb04"
      },
      "source": [
        "print(confusion_matrix(y_test, pred))\n",
        "print('\\n')\n",
        "print(classification_report(y_test, pred))"
      ],
      "execution_count": null,
      "outputs": [
        {
          "output_type": "stream",
          "text": [
            "[[ 88   8  10   7   2   1   8   2   1   0]\n",
            " [ 12 165  12   1  11   4   3   5   2   1]\n",
            " [  1   1 191   7   0   0   4   1   0   5]\n",
            " [  0   3  10 140   0   0   3   3   5  25]\n",
            " [  1   1   6   1 166   3   0   1   2   6]\n",
            " [  1   2   5   2  28 104   2   2   2   3]\n",
            " [  2   6  11  10   0   2 162  24   4   3]\n",
            " [  2   2   0   2   2   2   8 182   0   3]\n",
            " [  0   1   2   3   0   0   3   0 122  51]\n",
            " [  1   0   1   7   0   0   1   2   9 172]]\n",
            "\n",
            "\n",
            "              precision    recall  f1-score   support\n",
            "\n",
            "           1       0.81      0.69      0.75       127\n",
            "           2       0.87      0.76      0.81       216\n",
            "           3       0.77      0.91      0.83       210\n",
            "           4       0.78      0.74      0.76       189\n",
            "           5       0.79      0.89      0.84       187\n",
            "           6       0.90      0.69      0.78       151\n",
            "           7       0.84      0.72      0.78       224\n",
            "           8       0.82      0.90      0.86       203\n",
            "           9       0.83      0.67      0.74       182\n",
            "          10       0.64      0.89      0.74       193\n",
            "\n",
            "    accuracy                           0.79      1882\n",
            "   macro avg       0.81      0.79      0.79      1882\n",
            "weighted avg       0.80      0.79      0.79      1882\n",
            "\n"
          ],
          "name": "stdout"
        }
      ]
    },
    {
      "cell_type": "code",
      "metadata": {
        "id": "U0ZgH4dgT2ex"
      },
      "source": [
        "pred_prob = clf.predict_proba(X_test)"
      ],
      "execution_count": null,
      "outputs": []
    },
    {
      "cell_type": "code",
      "metadata": {
        "colab": {
          "base_uri": "https://localhost:8080/",
          "height": 330
        },
        "id": "UbIA7-GgUxk_",
        "outputId": "dcde0385-de30-4acd-97ee-476067e673f7"
      },
      "source": [
        "# roc curve for classes\n",
        "fpr = {}\n",
        "tpr = {}\n",
        "thresh ={}\n",
        "\n",
        "n_class = 10\n",
        "roc_auc = []\n",
        "for i in range(n_class):    \n",
        "    fpr[i], tpr[i], thresh[i] = roc_curve(y_test, pred_prob[:,i], pos_label=i)\n",
        "    \n",
        "    # calculate AUC\n",
        "    roc_auc.append(auc(fpr[i], tpr[i]))\n",
        "\n",
        "# plotting    \n",
        "plt.plot(fpr[0], tpr[0], linestyle='--',color='orange', label='AUC1 = {:0.2f}'.format(roc_auc[0]))\n",
        "plt.plot(fpr[1], tpr[1], linestyle='--',color='green', label='AUC2 = {:0.2f}'.format(roc_auc[1]))\n",
        "plt.plot(fpr[2], tpr[2], linestyle='--',color='blue', label='AUC3 = {:0.2f}'.format(roc_auc[2]))\n",
        "plt.plot(fpr[3], tpr[3], linestyle='--',color='cyan', label='AUC4 = {:0.2f}'.format(roc_auc[3]))\n",
        "plt.plot(fpr[4], tpr[4], linestyle='--',color='magenta', label='AUC5 = {:0.2f}'.format(roc_auc[4]))\n",
        "plt.plot(fpr[5], tpr[5], linestyle='--',color='yellow', label='AUC6 = {:0.2f}'.format(roc_auc[5]))\n",
        "plt.plot(fpr[6], tpr[6], linestyle='--',color='black', label='AUC7 = {:0.2f}'.format(roc_auc[6]))\n",
        "plt.plot(fpr[7], tpr[7], linestyle='--',color='purple', label='AUC8 = {:0.2f}'.format(roc_auc[7]))\n",
        "plt.plot(fpr[8], tpr[8], linestyle='--',color='indigo', label='AUC9 = {:0.2f}'.format(roc_auc[8]))\n",
        "plt.plot(fpr[9], tpr[9], linestyle='--',color='violet', label='AUC10 = {:0.2f}'.format(roc_auc[9]))\n",
        "plt.title('Multiclass ROC curve for SVM')\n",
        "plt.xlabel('False Positive Rate')\n",
        "plt.ylabel('True Positive rate')\n",
        "plt.legend(loc='best')\n",
        "plt.savefig('Multiclass ROC',dpi=300);    "
      ],
      "execution_count": null,
      "outputs": [
        {
          "output_type": "stream",
          "text": [
            "/usr/local/lib/python3.6/dist-packages/sklearn/metrics/_ranking.py:808: UndefinedMetricWarning: No positive samples in y_true, true positive value should be meaningless\n",
            "  UndefinedMetricWarning)\n"
          ],
          "name": "stderr"
        },
        {
          "output_type": "display_data",
          "data": {
            "image/png": "[encoded data removed]",
            "text/plain": [
              "<Figure size 432x288 with 1 Axes>"
            ]
          },
          "metadata": {
            "tags": [],
            "needs_background": "light"
          }
        }
      ]
    },
    {
      "cell_type": "code",
      "metadata": {
        "id": "K-IuveCiYTqW"
      },
      "source": [
        ""
      ],
      "execution_count": null,
      "outputs": []
    },
    {
      "cell_type": "code",
      "metadata": {
        "id": "MgdYBPTrOLh1"
      },
      "source": [
        ""
      ],
      "execution_count": null,
      "outputs": []
    },
    {
      "cell_type": "code",
      "metadata": {
        "id": "dJPIuvcROMNe"
      },
      "source": [
        "SVM = {'Algorithm':'SVM','Accuracy':0.79}\n",
        "XGBoost = {'Algorithm':'XGB','Accuracy':0.67}\n",
        "DNN = {'Algorithm':'DNN','Accuracy':0.71}\n",
        "CNN = {'Algorithm':'CNN','Accuracy':0.90}"
      ],
      "execution_count": null,
      "outputs": []
    },
    {
      "cell_type": "code",
      "metadata": {
        "colab": {
          "base_uri": "https://localhost:8080/"
        },
        "id": "cyT8ephDOngf",
        "outputId": "de619d76-f219-49f5-dc2d-f8486aca8ada"
      },
      "source": [
        "DNN.keys()"
      ],
      "execution_count": null,
      "outputs": [
        {
          "output_type": "execute_result",
          "data": {
            "text/plain": [
              "dict_keys(['Algorithm', 'Accuracy'])"
            ]
          },
          "metadata": {
            "tags": []
          },
          "execution_count": 10
        }
      ]
    },
    {
      "cell_type": "code",
      "metadata": {
        "id": "dq1PMPj_OrEw"
      },
      "source": [
        "results = pd.DataFrame([SVM, XGBoost, DNN, CNN], columns = DNN.keys())"
      ],
      "execution_count": null,
      "outputs": []
    },
    {
      "cell_type": "code",
      "metadata": {
        "colab": {
          "base_uri": "https://localhost:8080/",
          "height": 167
        },
        "id": "rreRW9QgPL2o",
        "outputId": "b10decf2-ddd1-4201-9be1-0b4e879a6daa"
      },
      "source": [
        "results"
      ],
      "execution_count": null,
      "outputs": [
        {
          "output_type": "execute_result",
          "data": {
            "text/html": [
              "<div>\n",
              "<style scoped>\n",
              "    .dataframe tbody tr th:only-of-type {\n",
              "        vertical-align: middle;\n",
              "    }\n",
              "\n",
              "    .dataframe tbody tr th {\n",
              "        vertical-align: top;\n",
              "    }\n",
              "\n",
              "    .dataframe thead th {\n",
              "        text-align: right;\n",
              "    }\n",
              "</style>\n",
              "<table border=\"1\" class=\"dataframe\">\n",
              "  <thead>\n",
              "    <tr style=\"text-align: right;\">\n",
              "      <th></th>\n",
              "      <th>Algorithm</th>\n",
              "      <th>Accuracy</th>\n",
              "    </tr>\n",
              "  </thead>\n",
              "  <tbody>\n",
              "    <tr>\n",
              "      <th>0</th>\n",
              "      <td>SVM</td>\n",
              "      <td>0.79</td>\n",
              "    </tr>\n",
              "    <tr>\n",
              "      <th>1</th>\n",
              "      <td>XGB</td>\n",
              "      <td>0.67</td>\n",
              "    </tr>\n",
              "    <tr>\n",
              "      <th>2</th>\n",
              "      <td>DNN</td>\n",
              "      <td>0.71</td>\n",
              "    </tr>\n",
              "    <tr>\n",
              "      <th>3</th>\n",
              "      <td>CNN</td>\n",
              "      <td>0.90</td>\n",
              "    </tr>\n",
              "  </tbody>\n",
              "</table>\n",
              "</div>"
            ],
            "text/plain": [
              "  Algorithm  Accuracy\n",
              "0       SVM      0.79\n",
              "1       XGB      0.67\n",
              "2       DNN      0.71\n",
              "3       CNN      0.90"
            ]
          },
          "metadata": {
            "tags": []
          },
          "execution_count": 13
        }
      ]
    },
    {
      "cell_type": "code",
      "metadata": {
        "colab": {
          "base_uri": "https://localhost:8080/",
          "height": 401
        },
        "id": "dDFX1wl3PUns",
        "outputId": "decdd350-1b49-4acd-f66e-2d968d712410"
      },
      "source": [
        "sns.catplot(x=\"Algorithm\", y =\"Accuracy\", data= results, kind = \"bar\")"
      ],
      "execution_count": null,
      "outputs": [
        {
          "output_type": "execute_result",
          "data": {
            "text/plain": [
              "<seaborn.axisgrid.FacetGrid at 0x7fdf2deb37f0>"
            ]
          },
          "metadata": {
            "tags": []
          },
          "execution_count": 22
        },
        {
          "output_type": "display_data",
          "data": {
            "image/png": "[encoded data removed]",
            "text/plain": [
              "<Figure size 360x360 with 1 Axes>"
            ]
          },
          "metadata": {
            "tags": [],
            "needs_background": "light"
          }
        }
      ]
    },
    {
      "cell_type": "code",
      "metadata": {
        "id": "ORPuB17TQr8l"
      },
      "source": [
        ""
      ],
      "execution_count": null,
      "outputs": []
    }
  ]
}