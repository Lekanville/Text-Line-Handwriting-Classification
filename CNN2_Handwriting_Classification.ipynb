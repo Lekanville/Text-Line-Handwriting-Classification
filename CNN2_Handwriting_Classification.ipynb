{
  "nbformat": 4,
  "nbformat_minor": 0,
  "metadata": {
    "colab": {
      "name": "CNN2 Handwriting Classification.ipynb",
      "provenance": [],
      "collapsed_sections": [],
      "mount_file_id": "1QDSSlkLgfi8d0MuTtRacwwoPQ0IsygmV",
      "authorship_tag": "ABX9TyOJAGUDMRJDHQhD3lcWAM2B",
      "include_colab_link": true
    },
    "kernelspec": {
      "name": "python3",
      "display_name": "Python 3"
    },
    "accelerator": "GPU"
  },
  "cells": [
    {
      "cell_type": "markdown",
      "metadata": {
        "id": "view-in-github",
        "colab_type": "text"
      },
      "source": [
        "<a href=\"https://colab.research.google.com/github/Lekanville/Text-Line-Handwriting-Classification/blob/main/CNN2_Handwriting_Classification.ipynb\" target=\"_parent\"><img src=\"https://colab.research.google.com/assets/colab-badge.svg\" alt=\"Open In Colab\"/></a>"
      ]
    },
    {
      "cell_type": "code",
      "metadata": {
        "id": "Fek_MZSUUckj"
      },
      "source": [
        "import pandas as pd\n",
        "import numpy as np\n",
        "from numpy import save\n",
        "from numpy import load\n",
        "import matplotlib.pyplot as plt"
      ],
      "execution_count": null,
      "outputs": []
    },
    {
      "cell_type": "code",
      "metadata": {
        "id": "R98llqyoUnoG"
      },
      "source": [
        "from numpy import save\n",
        "from numpy import load"
      ],
      "execution_count": null,
      "outputs": []
    },
    {
      "cell_type": "code",
      "metadata": {
        "id": "HDSQ04AlUpvU"
      },
      "source": [
        "data = load('drive/MyDrive/Colab_Notebooks/Handwriting_Classification/data.npy')"
      ],
      "execution_count": null,
      "outputs": []
    },
    {
      "cell_type": "code",
      "metadata": {
        "id": "5dN1frhHU2Xe"
      },
      "source": [
        "labels = load('drive/MyDrive/Colab_Notebooks/Handwriting_Classification/labels.npy')"
      ],
      "execution_count": null,
      "outputs": []
    },
    {
      "cell_type": "code",
      "metadata": {
        "id": "3ujfkcO2VIeX"
      },
      "source": [
        "import tensorflow as tf\n",
        "from keras.models import Sequential\n",
        "from keras.layers import Dense\n",
        "from keras.layers import BatchNormalization\n",
        "from keras.layers import Conv2D\n",
        "from keras.layers import Activation\n",
        "from keras.layers import Flatten\n",
        "from keras.layers import Dropout\n",
        "from keras.layers import Input\n",
        "from keras.layers import MaxPooling2D\n",
        "from keras.models import Model\n",
        "from keras.optimizers import RMSprop\n",
        "from sklearn.metrics import classification_report, confusion_matrix"
      ],
      "execution_count": null,
      "outputs": []
    },
    {
      "cell_type": "code",
      "metadata": {
        "id": "Wh6VtTWtVTE8"
      },
      "source": [
        "from sklearn.model_selection import train_test_split"
      ],
      "execution_count": null,
      "outputs": []
    },
    {
      "cell_type": "code",
      "metadata": {
        "colab": {
          "base_uri": "https://localhost:8080/"
        },
        "id": "JMJIi9gXVyOH",
        "outputId": "4eb74aee-2cd1-4ef7-f409-e8d54d087a5b"
      },
      "source": [
        "X = data\n",
        "X.shape"
      ],
      "execution_count": null,
      "outputs": [
        {
          "output_type": "execute_result",
          "data": {
            "text/plain": [
              "(18820, 32, 256)"
            ]
          },
          "metadata": {
            "tags": []
          },
          "execution_count": 7
        }
      ]
    },
    {
      "cell_type": "code",
      "metadata": {
        "colab": {
          "base_uri": "https://localhost:8080/"
        },
        "id": "fhBeDqJsV1JW",
        "outputId": "b9383c03-9cc8-466b-c264-213be4198e5d"
      },
      "source": [
        "X = X.reshape((-1,32,256,1))\n",
        "X.shape"
      ],
      "execution_count": null,
      "outputs": [
        {
          "output_type": "execute_result",
          "data": {
            "text/plain": [
              "(18820, 32, 256, 1)"
            ]
          },
          "metadata": {
            "tags": []
          },
          "execution_count": 8
        }
      ]
    },
    {
      "cell_type": "code",
      "metadata": {
        "colab": {
          "base_uri": "https://localhost:8080/"
        },
        "id": "GC56Zc4UV3VU",
        "outputId": "d935281a-71a4-464d-9796-13514832fd65"
      },
      "source": [
        "y = []\n",
        "for i in labels:\n",
        "    if i == 1:\n",
        "        ts = [1.0, 0.0, 0.0, 0.0, 0.0, 0.0, 0.0, 0.0, 0.0, 0.0]\n",
        "    elif i ==2:\n",
        "        ts = [0.0, 1.0, 0.0, 0.0, 0.0, 0.0, 0.0, 0.0, 0.0, 0.0]\n",
        "    elif i ==3:\n",
        "        ts = [0.0, 0.0, 1.0, 0.0, 0.0, 0.0, 0.0, 0.0, 0.0, 0.0]\n",
        "    elif i ==4:\n",
        "        ts = [0.0, 0.0, 0.0, 1.0, 0.0, 0.0, 0.0, 0.0, 0.0, 0.0]\n",
        "    elif i ==5:\n",
        "        ts = [0.0, 0.0, 0.0, 0.0, 1.0, 0.0, 0.0, 0.0, 0.0, 0.0]\n",
        "    elif i ==6:\n",
        "        ts = [0.0, 0.0, 0.0, 0.0, 0.0, 1.0, 0.0, 0.0, 0.0, 0.0]\n",
        "    elif i ==7:\n",
        "        ts = [0.0, 0.0, 0.0, 0.0, 0.0, 0.0, 1.0, 0.0, 0.0, 0.0]\n",
        "    elif i ==8:\n",
        "        ts = [0.0, 0.0, 0.0, 0.0, 0.0, 0.0, 0.0, 1.0, 0.0, 0.0]\n",
        "    elif i ==9:\n",
        "        ts = [0.0, 0.0, 0.0, 0.0, 0.0, 0.0, 0.0, 0.0, 1.0, 0.0]\n",
        "    elif i ==10:\n",
        "        ts = [0.0, 0.0, 0.0, 0.0, 0.0, 0.0, 0.0, 0.0, 0.0, 1.0]\n",
        "    y.append(ts)\n",
        "y = np.asarray(y, dtype=np.float32)\n",
        "y"
      ],
      "execution_count": null,
      "outputs": [
        {
          "output_type": "execute_result",
          "data": {
            "text/plain": [
              "array([[1., 0., 0., ..., 0., 0., 0.],\n",
              "       [1., 0., 0., ..., 0., 0., 0.],\n",
              "       [1., 0., 0., ..., 0., 0., 0.],\n",
              "       ...,\n",
              "       [0., 0., 0., ..., 0., 0., 1.],\n",
              "       [0., 0., 0., ..., 0., 0., 1.],\n",
              "       [0., 0., 0., ..., 0., 0., 1.]], dtype=float32)"
            ]
          },
          "metadata": {
            "tags": []
          },
          "execution_count": 9
        }
      ]
    },
    {
      "cell_type": "code",
      "metadata": {
        "id": "ZBzanPBzWBAv"
      },
      "source": [
        "X_train, X_test, y_train, y_test = train_test_split(X, y, test_size=0.1, random_state=101)"
      ],
      "execution_count": null,
      "outputs": []
    },
    {
      "cell_type": "code",
      "metadata": {
        "colab": {
          "base_uri": "https://localhost:8080/"
        },
        "id": "M8YndgYAWFbd",
        "outputId": "38d193f8-3e5c-48da-c5fa-dd4c9830ac41"
      },
      "source": [
        "print(X_train.shape)\n",
        "print(X_test.shape)"
      ],
      "execution_count": null,
      "outputs": [
        {
          "output_type": "stream",
          "text": [
            "(16938, 32, 256, 1)\n",
            "(1882, 32, 256, 1)\n"
          ],
          "name": "stdout"
        }
      ]
    },
    {
      "cell_type": "code",
      "metadata": {
        "colab": {
          "base_uri": "https://localhost:8080/"
        },
        "id": "N_7l4o9CWHzQ",
        "outputId": "664548b6-e10f-4add-ef35-6af297aa8084"
      },
      "source": [
        "print(y_train.shape)\n",
        "print(y_test.shape)"
      ],
      "execution_count": null,
      "outputs": [
        {
          "output_type": "stream",
          "text": [
            "(16938, 10)\n",
            "(1882, 10)\n"
          ],
          "name": "stdout"
        }
      ]
    },
    {
      "cell_type": "code",
      "metadata": {
        "id": "lxwz0OtrWKD-"
      },
      "source": [
        "model = Sequential()\n",
        "\n",
        "model.add(Conv2D(16,(5,5),padding='same',input_shape = (32, 256, 1)))\n",
        "model.add(Activation('relu'))\n",
        "model.add(MaxPooling2D(pool_size=(2,2),strides=2,padding = 'same'))\n",
        "#model.add(Dropout(0.4))\n",
        "\n",
        "model.add(Conv2D(32,(5,5),padding='same'))\n",
        "model.add(Activation('relu'))\n",
        "model.add(MaxPooling2D(pool_size=(2,2),strides=2,padding = 'same'))\n",
        "#model.add(Dropout(0.6))\n",
        "\n",
        "model.add(Conv2D(64,(5,5),padding='same'))\n",
        "model.add(Activation('relu'))\n",
        "#model.add(Dropout(0.8))\n",
        "\n",
        "model.add(Flatten())\n",
        "model.add(Dense(10))\n",
        "model.add(Activation('softmax'))"
      ],
      "execution_count": null,
      "outputs": []
    },
    {
      "cell_type": "code",
      "metadata": {
        "colab": {
          "base_uri": "https://localhost:8080/"
        },
        "id": "9shkPJXPWSq9",
        "outputId": "9ebac64f-f6d4-41fc-bd3d-3c33ab756603"
      },
      "source": [
        "model.summary()"
      ],
      "execution_count": null,
      "outputs": [
        {
          "output_type": "stream",
          "text": [
            "Model: \"sequential\"\n",
            "_________________________________________________________________\n",
            "Layer (type)                 Output Shape              Param #   \n",
            "=================================================================\n",
            "conv2d (Conv2D)              (None, 32, 256, 16)       416       \n",
            "_________________________________________________________________\n",
            "activation (Activation)      (None, 32, 256, 16)       0         \n",
            "_________________________________________________________________\n",
            "max_pooling2d (MaxPooling2D) (None, 16, 128, 16)       0         \n",
            "_________________________________________________________________\n",
            "conv2d_1 (Conv2D)            (None, 16, 128, 32)       12832     \n",
            "_________________________________________________________________\n",
            "activation_1 (Activation)    (None, 16, 128, 32)       0         \n",
            "_________________________________________________________________\n",
            "max_pooling2d_1 (MaxPooling2 (None, 8, 64, 32)         0         \n",
            "_________________________________________________________________\n",
            "conv2d_2 (Conv2D)            (None, 8, 64, 64)         51264     \n",
            "_________________________________________________________________\n",
            "activation_2 (Activation)    (None, 8, 64, 64)         0         \n",
            "_________________________________________________________________\n",
            "flatten (Flatten)            (None, 32768)             0         \n",
            "_________________________________________________________________\n",
            "dense (Dense)                (None, 10)                327690    \n",
            "_________________________________________________________________\n",
            "activation_3 (Activation)    (None, 10)                0         \n",
            "=================================================================\n",
            "Total params: 392,202\n",
            "Trainable params: 392,202\n",
            "Non-trainable params: 0\n",
            "_________________________________________________________________\n"
          ],
          "name": "stdout"
        }
      ]
    },
    {
      "cell_type": "code",
      "metadata": {
        "colab": {
          "base_uri": "https://localhost:8080/"
        },
        "id": "xeKJR6T9WVCN",
        "outputId": "59c8d6e1-cae6-4ca5-be1c-5289f71bab15"
      },
      "source": [
        "model.compile(loss='binary_crossentropy', optimizer='adam', metrics=['accuracy'])\n",
        "                   \n",
        "model.fit(X_train, y_train, epochs=300, batch_size=100, verbose=100)\n",
        "history = model.fit(X_train,y_train,steps_per_epoch = int(len(X_train)/batch_size),epochs=epochs)\n",
        "history"
      ],
      "execution_count": null,
      "outputs": [
        {
          "output_type": "stream",
          "text": [
            "Epoch 1/300\n",
            "Epoch 2/300\n",
            "Epoch 3/300\n",
            "Epoch 4/300\n",
            "Epoch 5/300\n",
            "Epoch 6/300\n",
            "Epoch 7/300\n",
            "Epoch 8/300\n",
            "Epoch 9/300\n",
            "Epoch 10/300\n",
            "Epoch 11/300\n",
            "Epoch 12/300\n",
            "Epoch 13/300\n",
            "Epoch 14/300\n",
            "Epoch 15/300\n",
            "Epoch 16/300\n",
            "Epoch 17/300\n",
            "Epoch 18/300\n",
            "Epoch 19/300\n",
            "Epoch 20/300\n",
            "Epoch 21/300\n",
            "Epoch 22/300\n",
            "Epoch 23/300\n",
            "Epoch 24/300\n",
            "Epoch 25/300\n",
            "Epoch 26/300\n",
            "Epoch 27/300\n",
            "Epoch 28/300\n",
            "Epoch 29/300\n",
            "Epoch 30/300\n",
            "Epoch 31/300\n",
            "Epoch 32/300\n",
            "Epoch 33/300\n",
            "Epoch 34/300\n",
            "Epoch 35/300\n",
            "Epoch 36/300\n",
            "Epoch 37/300\n",
            "Epoch 38/300\n",
            "Epoch 39/300\n",
            "Epoch 40/300\n",
            "Epoch 41/300\n",
            "Epoch 42/300\n",
            "Epoch 43/300\n",
            "Epoch 44/300\n",
            "Epoch 45/300\n",
            "Epoch 46/300\n",
            "Epoch 47/300\n",
            "Epoch 48/300\n",
            "Epoch 49/300\n",
            "Epoch 50/300\n",
            "Epoch 51/300\n",
            "Epoch 52/300\n",
            "Epoch 53/300\n",
            "Epoch 54/300\n",
            "Epoch 55/300\n",
            "Epoch 56/300\n",
            "Epoch 57/300\n",
            "Epoch 58/300\n",
            "Epoch 59/300\n",
            "Epoch 60/300\n",
            "Epoch 61/300\n",
            "Epoch 62/300\n",
            "Epoch 63/300\n",
            "Epoch 64/300\n",
            "Epoch 65/300\n",
            "Epoch 66/300\n",
            "Epoch 67/300\n",
            "Epoch 68/300\n",
            "Epoch 69/300\n",
            "Epoch 70/300\n",
            "Epoch 71/300\n",
            "Epoch 72/300\n",
            "Epoch 73/300\n",
            "Epoch 74/300\n",
            "Epoch 75/300\n",
            "Epoch 76/300\n",
            "Epoch 77/300\n",
            "Epoch 78/300\n",
            "Epoch 79/300\n",
            "Epoch 80/300\n",
            "Epoch 81/300\n",
            "Epoch 82/300\n",
            "Epoch 83/300\n",
            "Epoch 84/300\n",
            "Epoch 85/300\n",
            "Epoch 86/300\n",
            "Epoch 87/300\n",
            "Epoch 88/300\n",
            "Epoch 89/300\n",
            "Epoch 90/300\n",
            "Epoch 91/300\n",
            "Epoch 92/300\n",
            "Epoch 93/300\n",
            "Epoch 94/300\n",
            "Epoch 95/300\n",
            "Epoch 96/300\n",
            "Epoch 97/300\n",
            "Epoch 98/300\n",
            "Epoch 99/300\n",
            "Epoch 100/300\n",
            "Epoch 101/300\n",
            "Epoch 102/300\n",
            "Epoch 103/300\n",
            "Epoch 104/300\n",
            "Epoch 105/300\n",
            "Epoch 106/300\n",
            "Epoch 107/300\n",
            "Epoch 108/300\n",
            "Epoch 109/300\n",
            "Epoch 110/300\n",
            "Epoch 111/300\n",
            "Epoch 112/300\n",
            "Epoch 113/300\n",
            "Epoch 114/300\n",
            "Epoch 115/300\n",
            "Epoch 116/300\n",
            "Epoch 117/300\n",
            "Epoch 118/300\n",
            "Epoch 119/300\n",
            "Epoch 120/300\n",
            "Epoch 121/300\n",
            "Epoch 122/300\n",
            "Epoch 123/300\n",
            "Epoch 124/300\n",
            "Epoch 125/300\n",
            "Epoch 126/300\n",
            "Epoch 127/300\n",
            "Epoch 128/300\n",
            "Epoch 129/300\n",
            "Epoch 130/300\n",
            "Epoch 131/300\n",
            "Epoch 132/300\n",
            "Epoch 133/300\n",
            "Epoch 134/300\n",
            "Epoch 135/300\n",
            "Epoch 136/300\n",
            "Epoch 137/300\n",
            "Epoch 138/300\n",
            "Epoch 139/300\n",
            "Epoch 140/300\n",
            "Epoch 141/300\n",
            "Epoch 142/300\n",
            "Epoch 143/300\n",
            "Epoch 144/300\n",
            "Epoch 145/300\n",
            "Epoch 146/300\n",
            "Epoch 147/300\n",
            "Epoch 148/300\n",
            "Epoch 149/300\n",
            "Epoch 150/300\n",
            "Epoch 151/300\n",
            "Epoch 152/300\n",
            "Epoch 153/300\n",
            "Epoch 154/300\n",
            "Epoch 155/300\n",
            "Epoch 156/300\n",
            "Epoch 157/300\n",
            "Epoch 158/300\n",
            "Epoch 159/300\n",
            "Epoch 160/300\n",
            "Epoch 161/300\n",
            "Epoch 162/300\n",
            "Epoch 163/300\n",
            "Epoch 164/300\n",
            "Epoch 165/300\n",
            "Epoch 166/300\n",
            "Epoch 167/300\n",
            "Epoch 168/300\n",
            "Epoch 169/300\n",
            "Epoch 170/300\n",
            "Epoch 171/300\n",
            "Epoch 172/300\n",
            "Epoch 173/300\n",
            "Epoch 174/300\n",
            "Epoch 175/300\n",
            "Epoch 176/300\n",
            "Epoch 177/300\n",
            "Epoch 178/300\n",
            "Epoch 179/300\n",
            "Epoch 180/300\n",
            "Epoch 181/300\n",
            "Epoch 182/300\n",
            "Epoch 183/300\n",
            "Epoch 184/300\n",
            "Epoch 185/300\n",
            "Epoch 186/300\n",
            "Epoch 187/300\n",
            "Epoch 188/300\n",
            "Epoch 189/300\n",
            "Epoch 190/300\n",
            "Epoch 191/300\n",
            "Epoch 192/300\n",
            "Epoch 193/300\n",
            "Epoch 194/300\n",
            "Epoch 195/300\n",
            "Epoch 196/300\n",
            "Epoch 197/300\n",
            "Epoch 198/300\n",
            "Epoch 199/300\n",
            "Epoch 200/300\n",
            "Epoch 201/300\n",
            "Epoch 202/300\n",
            "Epoch 203/300\n",
            "Epoch 204/300\n",
            "Epoch 205/300\n",
            "Epoch 206/300\n",
            "Epoch 207/300\n",
            "Epoch 208/300\n",
            "Epoch 209/300\n",
            "Epoch 210/300\n",
            "Epoch 211/300\n",
            "Epoch 212/300\n",
            "Epoch 213/300\n",
            "Epoch 214/300\n",
            "Epoch 215/300\n",
            "Epoch 216/300\n",
            "Epoch 217/300\n",
            "Epoch 218/300\n",
            "Epoch 219/300\n",
            "Epoch 220/300\n",
            "Epoch 221/300\n",
            "Epoch 222/300\n",
            "Epoch 223/300\n",
            "Epoch 224/300\n",
            "Epoch 225/300\n",
            "Epoch 226/300\n",
            "Epoch 227/300\n",
            "Epoch 228/300\n",
            "Epoch 229/300\n",
            "Epoch 230/300\n",
            "Epoch 231/300\n",
            "Epoch 232/300\n",
            "Epoch 233/300\n",
            "Epoch 234/300\n",
            "Epoch 235/300\n",
            "Epoch 236/300\n",
            "Epoch 237/300\n",
            "Epoch 238/300\n",
            "Epoch 239/300\n",
            "Epoch 240/300\n",
            "Epoch 241/300\n",
            "Epoch 242/300\n",
            "Epoch 243/300\n",
            "Epoch 244/300\n",
            "Epoch 245/300\n",
            "Epoch 246/300\n",
            "Epoch 247/300\n",
            "Epoch 248/300\n",
            "Epoch 249/300\n",
            "Epoch 250/300\n",
            "Epoch 251/300\n",
            "Epoch 252/300\n",
            "Epoch 253/300\n",
            "Epoch 254/300\n",
            "Epoch 255/300\n",
            "Epoch 256/300\n",
            "Epoch 257/300\n",
            "Epoch 258/300\n",
            "Epoch 259/300\n",
            "Epoch 260/300\n",
            "Epoch 261/300\n",
            "Epoch 262/300\n",
            "Epoch 263/300\n",
            "Epoch 264/300\n",
            "Epoch 265/300\n",
            "Epoch 266/300\n",
            "Epoch 267/300\n",
            "Epoch 268/300\n",
            "Epoch 269/300\n",
            "Epoch 270/300\n",
            "Epoch 271/300\n",
            "Epoch 272/300\n",
            "Epoch 273/300\n",
            "Epoch 274/300\n",
            "Epoch 275/300\n",
            "Epoch 276/300\n",
            "Epoch 277/300\n",
            "Epoch 278/300\n",
            "Epoch 279/300\n",
            "Epoch 280/300\n",
            "Epoch 281/300\n",
            "Epoch 282/300\n",
            "Epoch 283/300\n",
            "Epoch 284/300\n",
            "Epoch 285/300\n",
            "Epoch 286/300\n",
            "Epoch 287/300\n",
            "Epoch 288/300\n",
            "Epoch 289/300\n",
            "Epoch 290/300\n",
            "Epoch 291/300\n",
            "Epoch 292/300\n",
            "Epoch 293/300\n",
            "Epoch 294/300\n",
            "Epoch 295/300\n",
            "Epoch 296/300\n",
            "Epoch 297/300\n",
            "Epoch 298/300\n",
            "Epoch 299/300\n",
            "Epoch 300/300\n"
          ],
          "name": "stdout"
        },
        {
          "output_type": "execute_result",
          "data": {
            "text/plain": [
              "<tensorflow.python.keras.callbacks.History at 0x7f5e505ee358>"
            ]
          },
          "metadata": {
            "tags": []
          },
          "execution_count": 0
        }
      ]
    },
    {
      "cell_type": "code",
      "metadata": {
        "id": "hgFfFOthWa1f"
      },
      "source": [
        "y_pred = np.argmax(model.predict(X_test), axis=-1)"
      ],
      "execution_count": null,
      "outputs": []
    },
    {
      "cell_type": "code",
      "metadata": {
        "colab": {
          "base_uri": "https://localhost:8080/"
        },
        "id": "jTwK71aqaL8B",
        "outputId": "fe82e690-76fe-4a41-d937-73fb780b7f48"
      },
      "source": [
        "print(confusion_matrix(np.argmax(y_test, axis = 1), y_pred))\n",
        "print('\\n')\n",
        "print(classification_report(np.argmax(y_test, axis = 1), y_pred))"
      ],
      "execution_count": null,
      "outputs": [
        {
          "output_type": "stream",
          "text": [
            "[[ 96  13   6   1   3   1   6   0   1   0]\n",
            " [  9 196   0   1   5   1   2   1   0   1]\n",
            " [  1   0 201   1   0   0   3   2   1   1]\n",
            " [  0   1   2 172   0   0   5   1   2   6]\n",
            " [  0   1   0   0 182   2   1   0   0   1]\n",
            " [  0   5   0   0   3 138   3   2   0   0]\n",
            " [  2   2   4   4   0   0 189  20   3   0]\n",
            " [  0   0   0   0   0   2  11 187   0   3]\n",
            " [  1   0   0   0   0   0   5   1 166   9]\n",
            " [  1   0   1   3   0   0   4   1  11 172]]\n",
            "\n",
            "\n",
            "              precision    recall  f1-score   support\n",
            "\n",
            "           0       0.87      0.76      0.81       127\n",
            "           1       0.90      0.91      0.90       216\n",
            "           2       0.94      0.96      0.95       210\n",
            "           3       0.95      0.91      0.93       189\n",
            "           4       0.94      0.97      0.96       187\n",
            "           5       0.96      0.91      0.94       151\n",
            "           6       0.83      0.84      0.83       224\n",
            "           7       0.87      0.92      0.89       203\n",
            "           8       0.90      0.91      0.91       182\n",
            "           9       0.89      0.89      0.89       193\n",
            "\n",
            "    accuracy                           0.90      1882\n",
            "   macro avg       0.90      0.90      0.90      1882\n",
            "weighted avg       0.90      0.90      0.90      1882\n",
            "\n"
          ],
          "name": "stdout"
        }
      ]
    },
    {
      "cell_type": "code",
      "metadata": {
        "id": "GZjNxQKkaPXa"
      },
      "source": [
        ""
      ],
      "execution_count": null,
      "outputs": []
    },
    {
      "cell_type": "code",
      "metadata": {
        "id": "BeBJD8Fhdsrz"
      },
      "source": [
        ""
      ],
      "execution_count": null,
      "outputs": []
    },
    {
      "cell_type": "code",
      "metadata": {
        "id": "-5pWcDFXdsaH"
      },
      "source": [
        "#Using othet algorithms\n",
        "model_feat = Model(inputs=model.input,outputs=model.output)\n",
        "feat_train = model_feat.predict(X_train)\n",
        "feat_test = model_feat.predict(X_test)"
      ],
      "execution_count": null,
      "outputs": []
    },
    {
      "cell_type": "markdown",
      "metadata": {
        "id": "lkq1N2VuebJb"
      },
      "source": [
        "SVM"
      ]
    },
    {
      "cell_type": "code",
      "metadata": {
        "id": "LkurUY-Kd0_o"
      },
      "source": [
        "from sklearn.svm import SVC\n",
        "from sklearn.model_selection import GridSearchCV"
      ],
      "execution_count": null,
      "outputs": []
    },
    {
      "cell_type": "code",
      "metadata": {
        "colab": {
          "base_uri": "https://localhost:8080/"
        },
        "id": "gDDZxkhKfoNd",
        "outputId": "a88787ef-4ef1-4208-bc09-b811516707cc"
      },
      "source": [
        "svm_model = SVC()\n",
        "svm_model.fit(feat_train,np.argmax(y_train,axis=1))"
      ],
      "execution_count": null,
      "outputs": [
        {
          "output_type": "execute_result",
          "data": {
            "text/plain": [
              "SVC(C=1.0, break_ties=False, cache_size=200, class_weight=None, coef0=0.0,\n",
              "    decision_function_shape='ovr', degree=3, gamma='scale', kernel='rbf',\n",
              "    max_iter=-1, probability=False, random_state=None, shrinking=True,\n",
              "    tol=0.001, verbose=False)"
            ]
          },
          "metadata": {
            "tags": []
          },
          "execution_count": 55
        }
      ]
    },
    {
      "cell_type": "code",
      "metadata": {
        "id": "2b-HBe64gJWI"
      },
      "source": [
        "svm_predictions = svm_model.predict(feat_test)"
      ],
      "execution_count": null,
      "outputs": []
    },
    {
      "cell_type": "code",
      "metadata": {
        "colab": {
          "base_uri": "https://localhost:8080/"
        },
        "id": "ablF_rgHgQTD",
        "outputId": "5bc5c19f-4c34-4fea-8ef7-4f12f3666c9e"
      },
      "source": [
        "svm_predictions"
      ],
      "execution_count": null,
      "outputs": [
        {
          "output_type": "execute_result",
          "data": {
            "text/plain": [
              "array([0, 8, 8, ..., 4, 6, 7])"
            ]
          },
          "metadata": {
            "tags": []
          },
          "execution_count": 57
        }
      ]
    },
    {
      "cell_type": "code",
      "metadata": {
        "colab": {
          "base_uri": "https://localhost:8080/"
        },
        "id": "YiC3RbFZgWXP",
        "outputId": "80c52c97-824f-4389-8279-ac3326eaaa23"
      },
      "source": [
        "print(confusion_matrix(np.argmax(y_test, axis = 1), svm_predictions))\n",
        "print('\\n')\n",
        "print(classification_report(np.argmax(y_test, axis = 1), svm_predictions))"
      ],
      "execution_count": null,
      "outputs": [
        {
          "output_type": "stream",
          "text": [
            "[[ 96  13   6   1   3   1   6   0   1   0]\n",
            " [  9 196   0   1   5   1   2   1   0   1]\n",
            " [  3   0 201   0   0   0   3   2   0   1]\n",
            " [  0   1   2 172   0   0   5   1   2   6]\n",
            " [  0   1   0   0 182   2   1   0   0   1]\n",
            " [  0   5   0   0   3 138   3   2   0   0]\n",
            " [  2   2   4   4   0   0 189  20   3   0]\n",
            " [  0   0   0   0   0   2  11 187   0   3]\n",
            " [  1   0   0   0   0   0   5   1 166   9]\n",
            " [  1   0   1   3   0   0   4   1  11 172]]\n",
            "\n",
            "\n",
            "              precision    recall  f1-score   support\n",
            "\n",
            "           0       0.86      0.76      0.80       127\n",
            "           1       0.90      0.91      0.90       216\n",
            "           2       0.94      0.96      0.95       210\n",
            "           3       0.95      0.91      0.93       189\n",
            "           4       0.94      0.97      0.96       187\n",
            "           5       0.96      0.91      0.94       151\n",
            "           6       0.83      0.84      0.83       224\n",
            "           7       0.87      0.92      0.89       203\n",
            "           8       0.91      0.91      0.91       182\n",
            "           9       0.89      0.89      0.89       193\n",
            "\n",
            "    accuracy                           0.90      1882\n",
            "   macro avg       0.90      0.90      0.90      1882\n",
            "weighted avg       0.90      0.90      0.90      1882\n",
            "\n"
          ],
          "name": "stdout"
        }
      ]
    },
    {
      "cell_type": "code",
      "metadata": {
        "colab": {
          "base_uri": "https://localhost:8080/"
        },
        "id": "vw510w0hkEUK",
        "outputId": "286b9266-6591-4e63-8369-089e9fe7dba1"
      },
      "source": [
        "svm_model.score(feat_test,np.argmax(y_test,axis=1))"
      ],
      "execution_count": null,
      "outputs": [
        {
          "output_type": "execute_result",
          "data": {
            "text/plain": [
              "0.9027630180658873"
            ]
          },
          "metadata": {
            "tags": []
          },
          "execution_count": 61
        }
      ]
    },
    {
      "cell_type": "markdown",
      "metadata": {
        "id": "_6a1PAvllV_j"
      },
      "source": [
        "Decision Tree"
      ]
    },
    {
      "cell_type": "code",
      "metadata": {
        "colab": {
          "base_uri": "https://localhost:8080/"
        },
        "id": "cYt4lzhplYDf",
        "outputId": "c2e87f01-8b23-4ab0-ea1c-647b810f2bc0"
      },
      "source": [
        "from sklearn.tree import DecisionTreeClassifier\n",
        "dt = DecisionTreeClassifier()\n",
        "dt.fit(feat_train,np.argmax(y_train,axis=1))"
      ],
      "execution_count": null,
      "outputs": [
        {
          "output_type": "execute_result",
          "data": {
            "text/plain": [
              "DecisionTreeClassifier(ccp_alpha=0.0, class_weight=None, criterion='gini',\n",
              "                       max_depth=None, max_features=None, max_leaf_nodes=None,\n",
              "                       min_impurity_decrease=0.0, min_impurity_split=None,\n",
              "                       min_samples_leaf=1, min_samples_split=2,\n",
              "                       min_weight_fraction_leaf=0.0, presort='deprecated',\n",
              "                       random_state=None, splitter='best')"
            ]
          },
          "metadata": {
            "tags": []
          },
          "execution_count": 52
        }
      ]
    },
    {
      "cell_type": "code",
      "metadata": {
        "colab": {
          "base_uri": "https://localhost:8080/",
          "height": 334
        },
        "id": "3L8Si7p-lmfH",
        "outputId": "0f2edd16-8a05-4f00-9da2-be437d3e2fe9"
      },
      "source": [
        "dt_predictions = dt.predict(X_test)"
      ],
      "execution_count": null,
      "outputs": [
        {
          "output_type": "error",
          "ename": "ValueError",
          "evalue": "ignored",
          "traceback": [
            "\u001b[0;31m---------------------------------------------------------------------------\u001b[0m",
            "\u001b[0;31mValueError\u001b[0m                                Traceback (most recent call last)",
            "\u001b[0;32m<ipython-input-62-269da6a2b97e>\u001b[0m in \u001b[0;36m<module>\u001b[0;34m()\u001b[0m\n\u001b[0;32m----> 1\u001b[0;31m \u001b[0mdt_predictions\u001b[0m \u001b[0;34m=\u001b[0m \u001b[0mdt\u001b[0m\u001b[0;34m.\u001b[0m\u001b[0mpredict\u001b[0m\u001b[0;34m(\u001b[0m\u001b[0mX_test\u001b[0m\u001b[0;34m)\u001b[0m\u001b[0;34m\u001b[0m\u001b[0;34m\u001b[0m\u001b[0m\n\u001b[0m",
            "\u001b[0;32m/usr/local/lib/python3.6/dist-packages/sklearn/tree/_classes.py\u001b[0m in \u001b[0;36mpredict\u001b[0;34m(self, X, check_input)\u001b[0m\n\u001b[1;32m    417\u001b[0m         \"\"\"\n\u001b[1;32m    418\u001b[0m         \u001b[0mcheck_is_fitted\u001b[0m\u001b[0;34m(\u001b[0m\u001b[0mself\u001b[0m\u001b[0;34m)\u001b[0m\u001b[0;34m\u001b[0m\u001b[0;34m\u001b[0m\u001b[0m\n\u001b[0;32m--> 419\u001b[0;31m         \u001b[0mX\u001b[0m \u001b[0;34m=\u001b[0m \u001b[0mself\u001b[0m\u001b[0;34m.\u001b[0m\u001b[0m_validate_X_predict\u001b[0m\u001b[0;34m(\u001b[0m\u001b[0mX\u001b[0m\u001b[0;34m,\u001b[0m \u001b[0mcheck_input\u001b[0m\u001b[0;34m)\u001b[0m\u001b[0;34m\u001b[0m\u001b[0;34m\u001b[0m\u001b[0m\n\u001b[0m\u001b[1;32m    420\u001b[0m         \u001b[0mproba\u001b[0m \u001b[0;34m=\u001b[0m \u001b[0mself\u001b[0m\u001b[0;34m.\u001b[0m\u001b[0mtree_\u001b[0m\u001b[0;34m.\u001b[0m\u001b[0mpredict\u001b[0m\u001b[0;34m(\u001b[0m\u001b[0mX\u001b[0m\u001b[0;34m)\u001b[0m\u001b[0;34m\u001b[0m\u001b[0;34m\u001b[0m\u001b[0m\n\u001b[1;32m    421\u001b[0m         \u001b[0mn_samples\u001b[0m \u001b[0;34m=\u001b[0m \u001b[0mX\u001b[0m\u001b[0;34m.\u001b[0m\u001b[0mshape\u001b[0m\u001b[0;34m[\u001b[0m\u001b[0;36m0\u001b[0m\u001b[0;34m]\u001b[0m\u001b[0;34m\u001b[0m\u001b[0;34m\u001b[0m\u001b[0m\n",
            "\u001b[0;32m/usr/local/lib/python3.6/dist-packages/sklearn/tree/_classes.py\u001b[0m in \u001b[0;36m_validate_X_predict\u001b[0;34m(self, X, check_input)\u001b[0m\n\u001b[1;32m    378\u001b[0m         \u001b[0;34m\"\"\"Validate X whenever one tries to predict, apply, predict_proba\"\"\"\u001b[0m\u001b[0;34m\u001b[0m\u001b[0;34m\u001b[0m\u001b[0m\n\u001b[1;32m    379\u001b[0m         \u001b[0;32mif\u001b[0m \u001b[0mcheck_input\u001b[0m\u001b[0;34m:\u001b[0m\u001b[0;34m\u001b[0m\u001b[0;34m\u001b[0m\u001b[0m\n\u001b[0;32m--> 380\u001b[0;31m             \u001b[0mX\u001b[0m \u001b[0;34m=\u001b[0m \u001b[0mcheck_array\u001b[0m\u001b[0;34m(\u001b[0m\u001b[0mX\u001b[0m\u001b[0;34m,\u001b[0m \u001b[0mdtype\u001b[0m\u001b[0;34m=\u001b[0m\u001b[0mDTYPE\u001b[0m\u001b[0;34m,\u001b[0m \u001b[0maccept_sparse\u001b[0m\u001b[0;34m=\u001b[0m\u001b[0;34m\"csr\"\u001b[0m\u001b[0;34m)\u001b[0m\u001b[0;34m\u001b[0m\u001b[0;34m\u001b[0m\u001b[0m\n\u001b[0m\u001b[1;32m    381\u001b[0m             if issparse(X) and (X.indices.dtype != np.intc or\n\u001b[1;32m    382\u001b[0m                                 X.indptr.dtype != np.intc):\n",
            "\u001b[0;32m/usr/local/lib/python3.6/dist-packages/sklearn/utils/validation.py\u001b[0m in \u001b[0;36mcheck_array\u001b[0;34m(array, accept_sparse, accept_large_sparse, dtype, order, copy, force_all_finite, ensure_2d, allow_nd, ensure_min_samples, ensure_min_features, warn_on_dtype, estimator)\u001b[0m\n\u001b[1;32m    572\u001b[0m         \u001b[0;32mif\u001b[0m \u001b[0;32mnot\u001b[0m \u001b[0mallow_nd\u001b[0m \u001b[0;32mand\u001b[0m \u001b[0marray\u001b[0m\u001b[0;34m.\u001b[0m\u001b[0mndim\u001b[0m \u001b[0;34m>=\u001b[0m \u001b[0;36m3\u001b[0m\u001b[0;34m:\u001b[0m\u001b[0;34m\u001b[0m\u001b[0;34m\u001b[0m\u001b[0m\n\u001b[1;32m    573\u001b[0m             raise ValueError(\"Found array with dim %d. %s expected <= 2.\"\n\u001b[0;32m--> 574\u001b[0;31m                              % (array.ndim, estimator_name))\n\u001b[0m\u001b[1;32m    575\u001b[0m \u001b[0;34m\u001b[0m\u001b[0m\n\u001b[1;32m    576\u001b[0m         \u001b[0;32mif\u001b[0m \u001b[0mforce_all_finite\u001b[0m\u001b[0;34m:\u001b[0m\u001b[0;34m\u001b[0m\u001b[0;34m\u001b[0m\u001b[0m\n",
            "\u001b[0;31mValueError\u001b[0m: Found array with dim 4. Estimator expected <= 2."
          ]
        }
      ]
    },
    {
      "cell_type": "code",
      "metadata": {
        "colab": {
          "base_uri": "https://localhost:8080/"
        },
        "id": "EacmqtnelvLg",
        "outputId": "5b7022da-2ee1-421f-e319-62b4336e3276"
      },
      "source": [
        "print(confusion_matrix(np.argmax(y_test, axis = 1), dt_predictions))\n",
        "print('\\n')\n",
        "print(classification_report(np.argmax(y_test, axis = 1), dt_predictions))"
      ],
      "execution_count": null,
      "outputs": [
        {
          "output_type": "stream",
          "text": [
            "[[ 97  13   5   1   3   1   6   0   1   0]\n",
            " [  9 196   0   1   5   1   2   1   0   1]\n",
            " [  2   0 201   0   0   0   3   3   0   1]\n",
            " [  0   1   2 172   0   0   5   1   2   6]\n",
            " [  0   1   0   0 182   2   1   0   0   1]\n",
            " [  0   5   0   0   3 138   3   2   0   0]\n",
            " [  1   2   4   4   0   0 186  24   3   0]\n",
            " [  0   0   0   0   0   2   9 190   0   2]\n",
            " [  1   0   0   0   0   0   5   2 165   9]\n",
            " [  1   0   1   3   0   0   4   1  11 172]]\n",
            "\n",
            "\n",
            "              precision    recall  f1-score   support\n",
            "\n",
            "           0       0.87      0.76      0.82       127\n",
            "           1       0.90      0.91      0.90       216\n",
            "           2       0.94      0.96      0.95       210\n",
            "           3       0.95      0.91      0.93       189\n",
            "           4       0.94      0.97      0.96       187\n",
            "           5       0.96      0.91      0.94       151\n",
            "           6       0.83      0.83      0.83       224\n",
            "           7       0.85      0.94      0.89       203\n",
            "           8       0.91      0.91      0.91       182\n",
            "           9       0.90      0.89      0.89       193\n",
            "\n",
            "    accuracy                           0.90      1882\n",
            "   macro avg       0.90      0.90      0.90      1882\n",
            "weighted avg       0.90      0.90      0.90      1882\n",
            "\n"
          ],
          "name": "stdout"
        }
      ]
    },
    {
      "cell_type": "code",
      "metadata": {
        "colab": {
          "base_uri": "https://localhost:8080/"
        },
        "id": "fFqgtlm8l2Hr",
        "outputId": "852a7675-c786-4ff3-aa36-e4b32ec9d4bd"
      },
      "source": [
        "dt.score(feat_test,np.argmax(y_test,axis=1))"
      ],
      "execution_count": null,
      "outputs": [
        {
          "output_type": "execute_result",
          "data": {
            "text/plain": [
              "0.9027630180658873"
            ]
          },
          "metadata": {
            "tags": []
          },
          "execution_count": 59
        }
      ]
    },
    {
      "cell_type": "code",
      "metadata": {
        "id": "h8cmuYPKpMW1"
      },
      "source": [
        ""
      ],
      "execution_count": null,
      "outputs": []
    }
  ]
}