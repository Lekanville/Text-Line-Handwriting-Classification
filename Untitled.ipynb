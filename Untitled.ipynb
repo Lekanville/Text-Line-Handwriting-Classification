{
 "cells": [
  {
   "cell_type": "code",
   "execution_count": 2,
   "metadata": {},
   "outputs": [],
   "source": [
    "from pathlib import Path\n",
    "import glob\n",
    "import pandas as pd\n",
    "import numpy as np"
   ]
  },
  {
   "cell_type": "code",
   "execution_count": 13,
   "metadata": {},
   "outputs": [],
   "source": [
    "# reading images from path\n",
    "images_dir = Path('Data/1D/')\n",
    "images = images_dir.glob(\"*.jpg\")"
   ]
  },
  {
   "cell_type": "code",
   "execution_count": 14,
   "metadata": {},
   "outputs": [],
   "source": [
    "train_data = []\n",
    "\n",
    "for img in images:\n",
    "    train_data.append((img,1))"
   ]
  },
  {
   "cell_type": "code",
   "execution_count": 15,
   "metadata": {},
   "outputs": [
    {
     "data": {
      "text/plain": [
       "[(WindowsPath('Data/1D/Capture1.JPG'), 1),\n",
       " (WindowsPath('Data/1D/Capture10.JPG'), 1),\n",
       " (WindowsPath('Data/1D/Capture100.JPG'), 1),\n",
       " (WindowsPath('Data/1D/Capture101.JPG'), 1),\n",
       " (WindowsPath('Data/1D/Capture102.JPG'), 1),\n",
       " (WindowsPath('Data/1D/Capture103.JPG'), 1),\n",
       " (WindowsPath('Data/1D/Capture104.JPG'), 1),\n",
       " (WindowsPath('Data/1D/Capture105.JPG'), 1),\n",
       " (WindowsPath('Data/1D/Capture106.JPG'), 1),\n",
       " (WindowsPath('Data/1D/Capture107.JPG'), 1),\n",
       " (WindowsPath('Data/1D/Capture108.JPG'), 1),\n",
       " (WindowsPath('Data/1D/Capture109.JPG'), 1),\n",
       " (WindowsPath('Data/1D/Capture11.JPG'), 1),\n",
       " (WindowsPath('Data/1D/Capture110.JPG'), 1),\n",
       " (WindowsPath('Data/1D/Capture111.JPG'), 1),\n",
       " (WindowsPath('Data/1D/Capture112.JPG'), 1),\n",
       " (WindowsPath('Data/1D/Capture113.JPG'), 1),\n",
       " (WindowsPath('Data/1D/Capture114.JPG'), 1),\n",
       " (WindowsPath('Data/1D/Capture115.JPG'), 1),\n",
       " (WindowsPath('Data/1D/Capture116.JPG'), 1),\n",
       " (WindowsPath('Data/1D/Capture117.JPG'), 1),\n",
       " (WindowsPath('Data/1D/Capture118.JPG'), 1),\n",
       " (WindowsPath('Data/1D/Capture119.JPG'), 1),\n",
       " (WindowsPath('Data/1D/Capture12.JPG'), 1),\n",
       " (WindowsPath('Data/1D/Capture120.JPG'), 1),\n",
       " (WindowsPath('Data/1D/Capture122.JPG'), 1),\n",
       " (WindowsPath('Data/1D/Capture123.JPG'), 1),\n",
       " (WindowsPath('Data/1D/Capture124.JPG'), 1),\n",
       " (WindowsPath('Data/1D/Capture125.JPG'), 1),\n",
       " (WindowsPath('Data/1D/Capture126.JPG'), 1),\n",
       " (WindowsPath('Data/1D/Capture127.JPG'), 1),\n",
       " (WindowsPath('Data/1D/Capture128.JPG'), 1),\n",
       " (WindowsPath('Data/1D/Capture129.JPG'), 1),\n",
       " (WindowsPath('Data/1D/Capture13.JPG'), 1),\n",
       " (WindowsPath('Data/1D/Capture130.JPG'), 1),\n",
       " (WindowsPath('Data/1D/Capture131.JPG'), 1),\n",
       " (WindowsPath('Data/1D/Capture132.JPG'), 1),\n",
       " (WindowsPath('Data/1D/Capture133.JPG'), 1),\n",
       " (WindowsPath('Data/1D/Capture134.JPG'), 1),\n",
       " (WindowsPath('Data/1D/Capture135.JPG'), 1),\n",
       " (WindowsPath('Data/1D/Capture136.JPG'), 1),\n",
       " (WindowsPath('Data/1D/Capture14.JPG'), 1),\n",
       " (WindowsPath('Data/1D/Capture15.JPG'), 1),\n",
       " (WindowsPath('Data/1D/Capture16.JPG'), 1),\n",
       " (WindowsPath('Data/1D/Capture17.JPG'), 1),\n",
       " (WindowsPath('Data/1D/Capture18.JPG'), 1),\n",
       " (WindowsPath('Data/1D/Capture19.JPG'), 1),\n",
       " (WindowsPath('Data/1D/Capture2.JPG'), 1),\n",
       " (WindowsPath('Data/1D/Capture20.JPG'), 1),\n",
       " (WindowsPath('Data/1D/Capture21.JPG'), 1),\n",
       " (WindowsPath('Data/1D/Capture22.JPG'), 1),\n",
       " (WindowsPath('Data/1D/Capture23.JPG'), 1),\n",
       " (WindowsPath('Data/1D/Capture24.JPG'), 1),\n",
       " (WindowsPath('Data/1D/Capture25.JPG'), 1),\n",
       " (WindowsPath('Data/1D/Capture26.JPG'), 1),\n",
       " (WindowsPath('Data/1D/Capture27.JPG'), 1),\n",
       " (WindowsPath('Data/1D/Capture28.JPG'), 1),\n",
       " (WindowsPath('Data/1D/Capture29.JPG'), 1),\n",
       " (WindowsPath('Data/1D/Capture3.JPG'), 1),\n",
       " (WindowsPath('Data/1D/Capture30.JPG'), 1),\n",
       " (WindowsPath('Data/1D/Capture31.JPG'), 1),\n",
       " (WindowsPath('Data/1D/Capture32.JPG'), 1),\n",
       " (WindowsPath('Data/1D/Capture33.JPG'), 1),\n",
       " (WindowsPath('Data/1D/Capture34.JPG'), 1),\n",
       " (WindowsPath('Data/1D/Capture35.JPG'), 1),\n",
       " (WindowsPath('Data/1D/Capture36.JPG'), 1),\n",
       " (WindowsPath('Data/1D/Capture37.JPG'), 1),\n",
       " (WindowsPath('Data/1D/Capture38.JPG'), 1),\n",
       " (WindowsPath('Data/1D/Capture39.JPG'), 1),\n",
       " (WindowsPath('Data/1D/Capture4.JPG'), 1),\n",
       " (WindowsPath('Data/1D/Capture40.JPG'), 1),\n",
       " (WindowsPath('Data/1D/Capture41.JPG'), 1),\n",
       " (WindowsPath('Data/1D/Capture42.JPG'), 1),\n",
       " (WindowsPath('Data/1D/Capture43.JPG'), 1),\n",
       " (WindowsPath('Data/1D/Capture44.JPG'), 1),\n",
       " (WindowsPath('Data/1D/Capture45.JPG'), 1),\n",
       " (WindowsPath('Data/1D/Capture46.JPG'), 1),\n",
       " (WindowsPath('Data/1D/Capture47.JPG'), 1),\n",
       " (WindowsPath('Data/1D/Capture48.JPG'), 1),\n",
       " (WindowsPath('Data/1D/Capture49.JPG'), 1),\n",
       " (WindowsPath('Data/1D/Capture5.JPG'), 1),\n",
       " (WindowsPath('Data/1D/Capture50.JPG'), 1),\n",
       " (WindowsPath('Data/1D/Capture51.JPG'), 1),\n",
       " (WindowsPath('Data/1D/Capture52.JPG'), 1),\n",
       " (WindowsPath('Data/1D/Capture53.JPG'), 1),\n",
       " (WindowsPath('Data/1D/Capture54.JPG'), 1),\n",
       " (WindowsPath('Data/1D/Capture55.JPG'), 1),\n",
       " (WindowsPath('Data/1D/Capture56.JPG'), 1),\n",
       " (WindowsPath('Data/1D/Capture57.JPG'), 1),\n",
       " (WindowsPath('Data/1D/Capture58.JPG'), 1),\n",
       " (WindowsPath('Data/1D/Capture59.JPG'), 1),\n",
       " (WindowsPath('Data/1D/Capture6.JPG'), 1),\n",
       " (WindowsPath('Data/1D/Capture60.JPG'), 1),\n",
       " (WindowsPath('Data/1D/Capture61.JPG'), 1),\n",
       " (WindowsPath('Data/1D/Capture62.JPG'), 1),\n",
       " (WindowsPath('Data/1D/Capture63.JPG'), 1),\n",
       " (WindowsPath('Data/1D/Capture64.JPG'), 1),\n",
       " (WindowsPath('Data/1D/Capture65.JPG'), 1),\n",
       " (WindowsPath('Data/1D/Capture66.JPG'), 1),\n",
       " (WindowsPath('Data/1D/Capture67.JPG'), 1),\n",
       " (WindowsPath('Data/1D/Capture68.JPG'), 1),\n",
       " (WindowsPath('Data/1D/Capture69.JPG'), 1),\n",
       " (WindowsPath('Data/1D/Capture7.JPG'), 1),\n",
       " (WindowsPath('Data/1D/Capture70.JPG'), 1),\n",
       " (WindowsPath('Data/1D/Capture71.JPG'), 1),\n",
       " (WindowsPath('Data/1D/Capture72.JPG'), 1),\n",
       " (WindowsPath('Data/1D/Capture73.JPG'), 1),\n",
       " (WindowsPath('Data/1D/Capture74.JPG'), 1),\n",
       " (WindowsPath('Data/1D/Capture75.JPG'), 1),\n",
       " (WindowsPath('Data/1D/Capture76.JPG'), 1),\n",
       " (WindowsPath('Data/1D/Capture77.JPG'), 1),\n",
       " (WindowsPath('Data/1D/Capture78.JPG'), 1),\n",
       " (WindowsPath('Data/1D/Capture79.JPG'), 1),\n",
       " (WindowsPath('Data/1D/Capture8.JPG'), 1),\n",
       " (WindowsPath('Data/1D/Capture80.JPG'), 1),\n",
       " (WindowsPath('Data/1D/Capture81.JPG'), 1),\n",
       " (WindowsPath('Data/1D/Capture82.JPG'), 1),\n",
       " (WindowsPath('Data/1D/Capture83.JPG'), 1),\n",
       " (WindowsPath('Data/1D/Capture84.JPG'), 1),\n",
       " (WindowsPath('Data/1D/Capture85.JPG'), 1),\n",
       " (WindowsPath('Data/1D/Capture86.JPG'), 1),\n",
       " (WindowsPath('Data/1D/Capture87.JPG'), 1),\n",
       " (WindowsPath('Data/1D/Capture88.JPG'), 1),\n",
       " (WindowsPath('Data/1D/Capture89.JPG'), 1),\n",
       " (WindowsPath('Data/1D/Capture9.JPG'), 1),\n",
       " (WindowsPath('Data/1D/Capture90.JPG'), 1),\n",
       " (WindowsPath('Data/1D/Capture91.JPG'), 1),\n",
       " (WindowsPath('Data/1D/Capture92.JPG'), 1),\n",
       " (WindowsPath('Data/1D/Capture93.JPG'), 1),\n",
       " (WindowsPath('Data/1D/Capture94.JPG'), 1),\n",
       " (WindowsPath('Data/1D/Capture95.JPG'), 1),\n",
       " (WindowsPath('Data/1D/Capture96.JPG'), 1),\n",
       " (WindowsPath('Data/1D/Capture97.JPG'), 1),\n",
       " (WindowsPath('Data/1D/Capture98.JPG'), 1),\n",
       " (WindowsPath('Data/1D/Capture99.JPG'), 1)]"
      ]
     },
     "execution_count": 15,
     "metadata": {},
     "output_type": "execute_result"
    }
   ],
   "source": [
    "train_data"
   ]
  },
  {
   "cell_type": "code",
   "execution_count": 19,
   "metadata": {},
   "outputs": [],
   "source": [
    "# reading images from path\n",
    "images_dir = Path('Data/2D/')\n",
    "images = images_dir.glob(\"*.jpg\")\n",
    "for img in images:\n",
    "    train_data.append((img,2))"
   ]
  },
  {
   "cell_type": "code",
   "execution_count": 21,
   "metadata": {},
   "outputs": [],
   "source": [
    "# reading images from path\n",
    "images_dir = Path('Data/3D/')\n",
    "images = images_dir.glob(\"*.png\")\n",
    "for img in images:\n",
    "    train_data.append((img,3))"
   ]
  },
  {
   "cell_type": "code",
   "execution_count": 23,
   "metadata": {},
   "outputs": [],
   "source": [
    "# reading images from path\n",
    "images_dir = Path('Data/4D/')\n",
    "images = images_dir.glob(\"*.png\")\n",
    "for img in images:\n",
    "    train_data.append((img,4))"
   ]
  },
  {
   "cell_type": "code",
   "execution_count": 24,
   "metadata": {},
   "outputs": [],
   "source": [
    "# reading images from path\n",
    "images_dir = Path('Data/5D/')\n",
    "images = images_dir.glob(\"*.jpg\")\n",
    "for img in images:\n",
    "    train_data.append((img,5))"
   ]
  },
  {
   "cell_type": "code",
   "execution_count": 26,
   "metadata": {},
   "outputs": [],
   "source": [
    "# reading images from path\n",
    "images_dir = Path('Data/7D/')\n",
    "images = images_dir.glob(\"*.jpg\")\n",
    "for img in images:\n",
    "    train_data.append((img,7))"
   ]
  },
  {
   "cell_type": "code",
   "execution_count": 27,
   "metadata": {},
   "outputs": [],
   "source": [
    "# reading images from path\n",
    "images_dir = Path('Data/8D/')\n",
    "images = images_dir.glob(\"*.jpg\")\n",
    "for img in images:\n",
    "    train_data.append((img,8))"
   ]
  },
  {
   "cell_type": "code",
   "execution_count": 31,
   "metadata": {},
   "outputs": [],
   "source": [
    "# reading images from path\n",
    "images_dir = Path('Data/9D/')\n",
    "images = images_dir.glob(\"*.png\")\n",
    "for img in images:\n",
    "    train_data.append((img,9))"
   ]
  },
  {
   "cell_type": "code",
   "execution_count": 33,
   "metadata": {},
   "outputs": [],
   "source": [
    "# reading images from path\n",
    "images_dir = Path('Data/10D/')\n",
    "images = images_dir.glob(\"*.png\")\n",
    "for img in images:\n",
    "    train_data.append((img,10))"
   ]
  },
  {
   "cell_type": "code",
   "execution_count": 34,
   "metadata": {},
   "outputs": [],
   "source": [
    "# converting data into pandas dataframe for easy visualization \n",
    "train_dat = pd.DataFrame(train_data,columns=['image','label'],index = None)"
   ]
  },
  {
   "cell_type": "code",
   "execution_count": 35,
   "metadata": {},
   "outputs": [
    {
     "data": {
      "text/html": [
       "<div>\n",
       "<style scoped>\n",
       "    .dataframe tbody tr th:only-of-type {\n",
       "        vertical-align: middle;\n",
       "    }\n",
       "\n",
       "    .dataframe tbody tr th {\n",
       "        vertical-align: top;\n",
       "    }\n",
       "\n",
       "    .dataframe thead th {\n",
       "        text-align: right;\n",
       "    }\n",
       "</style>\n",
       "<table border=\"1\" class=\"dataframe\">\n",
       "  <thead>\n",
       "    <tr style=\"text-align: right;\">\n",
       "      <th></th>\n",
       "      <th>image</th>\n",
       "      <th>label</th>\n",
       "    </tr>\n",
       "  </thead>\n",
       "  <tbody>\n",
       "    <tr>\n",
       "      <th>0</th>\n",
       "      <td>Data\\1D\\Capture1.JPG</td>\n",
       "      <td>1</td>\n",
       "    </tr>\n",
       "    <tr>\n",
       "      <th>1</th>\n",
       "      <td>Data\\1D\\Capture10.JPG</td>\n",
       "      <td>1</td>\n",
       "    </tr>\n",
       "    <tr>\n",
       "      <th>2</th>\n",
       "      <td>Data\\1D\\Capture100.JPG</td>\n",
       "      <td>1</td>\n",
       "    </tr>\n",
       "    <tr>\n",
       "      <th>3</th>\n",
       "      <td>Data\\1D\\Capture101.JPG</td>\n",
       "      <td>1</td>\n",
       "    </tr>\n",
       "    <tr>\n",
       "      <th>4</th>\n",
       "      <td>Data\\1D\\Capture102.JPG</td>\n",
       "      <td>1</td>\n",
       "    </tr>\n",
       "    <tr>\n",
       "      <th>...</th>\n",
       "      <td>...</td>\n",
       "      <td>...</td>\n",
       "    </tr>\n",
       "    <tr>\n",
       "      <th>1877</th>\n",
       "      <td>Data\\10D\\919.PNG</td>\n",
       "      <td>10</td>\n",
       "    </tr>\n",
       "    <tr>\n",
       "      <th>1878</th>\n",
       "      <td>Data\\10D\\920.PNG</td>\n",
       "      <td>10</td>\n",
       "    </tr>\n",
       "    <tr>\n",
       "      <th>1879</th>\n",
       "      <td>Data\\10D\\921.PNG</td>\n",
       "      <td>10</td>\n",
       "    </tr>\n",
       "    <tr>\n",
       "      <th>1880</th>\n",
       "      <td>Data\\10D\\922.PNG</td>\n",
       "      <td>10</td>\n",
       "    </tr>\n",
       "    <tr>\n",
       "      <th>1881</th>\n",
       "      <td>Data\\10D\\923.PNG</td>\n",
       "      <td>10</td>\n",
       "    </tr>\n",
       "  </tbody>\n",
       "</table>\n",
       "<p>1882 rows × 2 columns</p>\n",
       "</div>"
      ],
      "text/plain": [
       "                       image  label\n",
       "0       Data\\1D\\Capture1.JPG      1\n",
       "1      Data\\1D\\Capture10.JPG      1\n",
       "2     Data\\1D\\Capture100.JPG      1\n",
       "3     Data\\1D\\Capture101.JPG      1\n",
       "4     Data\\1D\\Capture102.JPG      1\n",
       "...                      ...    ...\n",
       "1877        Data\\10D\\919.PNG     10\n",
       "1878        Data\\10D\\920.PNG     10\n",
       "1879        Data\\10D\\921.PNG     10\n",
       "1880        Data\\10D\\922.PNG     10\n",
       "1881        Data\\10D\\923.PNG     10\n",
       "\n",
       "[1882 rows x 2 columns]"
      ]
     },
     "execution_count": 35,
     "metadata": {},
     "output_type": "execute_result"
    }
   ],
   "source": [
    "train_dat"
   ]
  },
  {
   "cell_type": "code",
   "execution_count": 3,
   "metadata": {},
   "outputs": [
    {
     "ename": "NameError",
     "evalue": "name 'train_dat' is not defined",
     "output_type": "error",
     "traceback": [
      "\u001b[1;31m---------------------------------------------------------------------------\u001b[0m",
      "\u001b[1;31mNameError\u001b[0m                                 Traceback (most recent call last)",
      "\u001b[1;32m<ipython-input-3-5ff2f72d3724>\u001b[0m in \u001b[0;36m<module>\u001b[1;34m\u001b[0m\n\u001b[1;32m----> 1\u001b[1;33m \u001b[0mtrain_dat\u001b[0m\u001b[1;33m.\u001b[0m\u001b[0mto_csv\u001b[0m\u001b[1;33m(\u001b[0m\u001b[1;34m'dat.csv'\u001b[0m\u001b[1;33m,\u001b[0m \u001b[0mindex\u001b[0m \u001b[1;33m=\u001b[0m \u001b[1;32mFalse\u001b[0m\u001b[1;33m)\u001b[0m\u001b[1;33m\u001b[0m\u001b[1;33m\u001b[0m\u001b[0m\n\u001b[0m",
      "\u001b[1;31mNameError\u001b[0m: name 'train_dat' is not defined"
     ]
    }
   ],
   "source": [
    "train_dat.to_csv('dat.csv', index = False)"
   ]
  },
  {
   "cell_type": "code",
   "execution_count": 3,
   "metadata": {},
   "outputs": [],
   "source": [
    "data_train = pd.read_csv('dat.csv')"
   ]
  },
  {
   "cell_type": "code",
   "execution_count": 4,
   "metadata": {
    "scrolled": true
   },
   "outputs": [
    {
     "data": {
      "text/html": [
       "<div>\n",
       "<style scoped>\n",
       "    .dataframe tbody tr th:only-of-type {\n",
       "        vertical-align: middle;\n",
       "    }\n",
       "\n",
       "    .dataframe tbody tr th {\n",
       "        vertical-align: top;\n",
       "    }\n",
       "\n",
       "    .dataframe thead th {\n",
       "        text-align: right;\n",
       "    }\n",
       "</style>\n",
       "<table border=\"1\" class=\"dataframe\">\n",
       "  <thead>\n",
       "    <tr style=\"text-align: right;\">\n",
       "      <th></th>\n",
       "      <th>image</th>\n",
       "      <th>label</th>\n",
       "    </tr>\n",
       "  </thead>\n",
       "  <tbody>\n",
       "    <tr>\n",
       "      <th>0</th>\n",
       "      <td>Data/1D/Capture1.JPG</td>\n",
       "      <td>1</td>\n",
       "    </tr>\n",
       "    <tr>\n",
       "      <th>1</th>\n",
       "      <td>Data/1D/Capture10.JPG</td>\n",
       "      <td>1</td>\n",
       "    </tr>\n",
       "    <tr>\n",
       "      <th>2</th>\n",
       "      <td>Data/1D/Capture100.JPG</td>\n",
       "      <td>1</td>\n",
       "    </tr>\n",
       "    <tr>\n",
       "      <th>3</th>\n",
       "      <td>Data/1D/Capture101.JPG</td>\n",
       "      <td>1</td>\n",
       "    </tr>\n",
       "    <tr>\n",
       "      <th>4</th>\n",
       "      <td>Data/1D/Capture102.JPG</td>\n",
       "      <td>1</td>\n",
       "    </tr>\n",
       "    <tr>\n",
       "      <th>...</th>\n",
       "      <td>...</td>\n",
       "      <td>...</td>\n",
       "    </tr>\n",
       "    <tr>\n",
       "      <th>1877</th>\n",
       "      <td>Data/10D/919.PNG</td>\n",
       "      <td>10</td>\n",
       "    </tr>\n",
       "    <tr>\n",
       "      <th>1878</th>\n",
       "      <td>Data/10D/920.PNG</td>\n",
       "      <td>10</td>\n",
       "    </tr>\n",
       "    <tr>\n",
       "      <th>1879</th>\n",
       "      <td>Data/10D/921.PNG</td>\n",
       "      <td>10</td>\n",
       "    </tr>\n",
       "    <tr>\n",
       "      <th>1880</th>\n",
       "      <td>Data/10D/922.PNG</td>\n",
       "      <td>10</td>\n",
       "    </tr>\n",
       "    <tr>\n",
       "      <th>1881</th>\n",
       "      <td>Data/10D/923.PNG</td>\n",
       "      <td>10</td>\n",
       "    </tr>\n",
       "  </tbody>\n",
       "</table>\n",
       "<p>1882 rows × 2 columns</p>\n",
       "</div>"
      ],
      "text/plain": [
       "                       image  label\n",
       "0       Data/1D/Capture1.JPG      1\n",
       "1      Data/1D/Capture10.JPG      1\n",
       "2     Data/1D/Capture100.JPG      1\n",
       "3     Data/1D/Capture101.JPG      1\n",
       "4     Data/1D/Capture102.JPG      1\n",
       "...                      ...    ...\n",
       "1877        Data/10D/919.PNG     10\n",
       "1878        Data/10D/920.PNG     10\n",
       "1879        Data/10D/921.PNG     10\n",
       "1880        Data/10D/922.PNG     10\n",
       "1881        Data/10D/923.PNG     10\n",
       "\n",
       "[1882 rows x 2 columns]"
      ]
     },
     "execution_count": 4,
     "metadata": {},
     "output_type": "execute_result"
    }
   ],
   "source": [
    "data_train"
   ]
  },
  {
   "cell_type": "code",
   "execution_count": 5,
   "metadata": {},
   "outputs": [
    {
     "data": {
      "text/plain": [
       "10"
      ]
     },
     "execution_count": 5,
     "metadata": {},
     "output_type": "execute_result"
    }
   ],
   "source": [
    "data_train['label'].nunique()"
   ]
  },
  {
   "cell_type": "code",
   "execution_count": 6,
   "metadata": {},
   "outputs": [],
   "source": [
    "import os\n",
    "import cv2\n",
    "import random\n",
    "import numpy as np\n",
    "import pandas as pd\n",
    "import matplotlib.pyplot as plt"
   ]
  },
  {
   "cell_type": "code",
   "execution_count": 7,
   "metadata": {},
   "outputs": [
    {
     "data": {
      "image/png": "[encoded data removed]",
      "text/plain": [
       "<Figure size 1080x720 with 6 Axes>"
      ]
     },
     "metadata": {
      "needs_background": "light"
     },
     "output_type": "display_data"
    }
   ],
   "source": [
    "plt.figure(figsize=(15, 10))\n",
    "\n",
    "for i in range(6):\n",
    "    ax = plt.subplot(2, 3, i+1)\n",
    "    img_dir = data_train.loc[i, 'image']\n",
    "    image = cv2.imread(img_dir, cv2.IMREAD_GRAYSCALE)\n",
    "    plt.imshow(image, cmap = 'gray')\n",
    "    plt.title(data_train.loc[i, 'image'], fontsize=12)\n",
    "    plt.axis('off')\n",
    "\n",
    "plt.subplots_adjust(wspace=0.2, hspace=-0.8)"
   ]
  },
  {
   "cell_type": "code",
   "execution_count": 8,
   "metadata": {},
   "outputs": [],
   "source": [
    "#Cleaning Data"
   ]
  },
  {
   "cell_type": "code",
   "execution_count": 9,
   "metadata": {},
   "outputs": [
    {
     "data": {
      "text/plain": [
       "(29, 329)"
      ]
     },
     "execution_count": 9,
     "metadata": {},
     "output_type": "execute_result"
    }
   ],
   "source": [
    "image.shape"
   ]
  },
  {
   "cell_type": "code",
   "execution_count": 10,
   "metadata": {},
   "outputs": [
    {
     "data": {
      "text/plain": [
       "array([[255, 255, 255, ..., 253, 254, 255],\n",
       "       [255, 255, 255, ..., 253, 255, 255],\n",
       "       [255, 255, 255, ..., 253, 255, 255],\n",
       "       ...,\n",
       "       [161, 174, 170, ..., 255, 255, 255],\n",
       "       [229, 236, 228, ..., 255, 255, 255],\n",
       "       [255, 255, 252, ..., 255, 255, 255]], dtype=uint8)"
      ]
     },
     "execution_count": 10,
     "metadata": {},
     "output_type": "execute_result"
    }
   ],
   "source": [
    "image"
   ]
  },
  {
   "cell_type": "code",
   "execution_count": 11,
   "metadata": {
    "scrolled": true
   },
   "outputs": [
    {
     "data": {
      "text/plain": [
       "(-0.5, 328.5, 28.5, -0.5)"
      ]
     },
     "execution_count": 11,
     "metadata": {},
     "output_type": "execute_result"
    },
    {
     "data": {
      "image/png": "[encoded data removed]",
      "text/plain": [
       "<Figure size 1080x144 with 1 Axes>"
      ]
     },
     "metadata": {
      "needs_background": "light"
     },
     "output_type": "display_data"
    }
   ],
   "source": [
    "plt.figure(figsize=(15, 2))\n",
    "plt.imshow(image, cmap = 'gray')\n",
    "plt.title(data_train.loc[i, 'image'], fontsize=12)\n",
    "plt.axis('off')"
   ]
  },
  {
   "cell_type": "code",
   "execution_count": 12,
   "metadata": {},
   "outputs": [],
   "source": [
    "def preprocess(img):\n",
    "    (h, w) = img.shape\n",
    "    \n",
    "    final_img = np.ones([64, 500])*255 # blank white image\n",
    "    \n",
    "    # crop\n",
    "    if w > 500:\n",
    "        img = img[:, :500]\n",
    "        \n",
    "    if h > 64:\n",
    "        img = img[:64, :]\n",
    "    \n",
    "\n",
    "    final_img[:h, :w] = img\n",
    "    return final_img"
   ]
  },
  {
   "cell_type": "code",
   "execution_count": 13,
   "metadata": {},
   "outputs": [],
   "source": [
    "data_size = 1882\n",
    "data_1 = []\n",
    "for i in range(data_size):\n",
    "    img_dir = data_train.loc[i, 'image']\n",
    "    image = cv2.imread(img_dir, cv2.IMREAD_GRAYSCALE)\n",
    "    image = preprocess(image)\n",
    "    image = image/255.\n",
    "    data_1.append(image)"
   ]
  },
  {
   "cell_type": "code",
   "execution_count": 42,
   "metadata": {},
   "outputs": [],
   "source": [
    "#data_2 = []\n",
    "#for i in data_1:\n",
    "    #image = cv2.resize(i, (300,30))\n",
    "    #image = preprocess2(image)\n",
    "    #data_2.append(image)"
   ]
  },
  {
   "cell_type": "code",
   "execution_count": 51,
   "metadata": {},
   "outputs": [],
   "source": [
    "data_size = 1882\n",
    "data_2 = []\n",
    "for i in range(data_size):\n",
    "    img_dir = data_train.loc[i, 'image']\n",
    "    image = cv2.imread(img_dir, cv2.IMREAD_GRAYSCALE)\n",
    "    image = cv2.resize(image, (300,30))\n",
    "    image = preprocess(image)\n",
    "    image = image/255.\n",
    "    data_2.append(image)"
   ]
  },
  {
   "cell_type": "code",
   "execution_count": 52,
   "metadata": {
    "scrolled": true
   },
   "outputs": [
    {
     "name": "stdout",
     "output_type": "stream",
     "text": [
      "[[1.         0.98431373 0.98823529 ... 1.         1.         1.        ]\n",
      " [1.         0.98431373 1.         ... 1.         1.         1.        ]\n",
      " [1.         0.99215686 1.         ... 1.         1.         1.        ]\n",
      " ...\n",
      " [1.         1.         1.         ... 1.         1.         1.        ]\n",
      " [1.         1.         1.         ... 1.         1.         1.        ]\n",
      " [1.         1.         1.         ... 1.         1.         1.        ]]\n",
      "\n",
      "\n",
      "[[0.99607843 0.98823529 0.98431373 ... 1.         1.         1.        ]\n",
      " [0.99607843 1.         0.99607843 ... 1.         1.         1.        ]\n",
      " [0.99607843 1.         0.99215686 ... 1.         1.         1.        ]\n",
      " ...\n",
      " [1.         1.         1.         ... 1.         1.         1.        ]\n",
      " [1.         1.         1.         ... 1.         1.         1.        ]\n",
      " [1.         1.         1.         ... 1.         1.         1.        ]]\n"
     ]
    }
   ],
   "source": [
    "print(data_1[0])\n",
    "print('\\n')\n",
    "print(data_2[0])"
   ]
  },
  {
   "cell_type": "code",
   "execution_count": 53,
   "metadata": {},
   "outputs": [
    {
     "data": {
      "text/plain": [
       "(-0.5, 499.5, 63.5, -0.5)"
      ]
     },
     "execution_count": 53,
     "metadata": {},
     "output_type": "execute_result"
    },
    {
     "data": {
      "image/png": "[encoded data removed]",
      "text/plain": [
       "<Figure size 1080x144 with 1 Axes>"
      ]
     },
     "metadata": {
      "needs_background": "light"
     },
     "output_type": "display_data"
    }
   ],
   "source": [
    "plt.figure(figsize=(15, 2))\n",
    "plt.imshow(data_2[1881], cmap = 'gray')\n",
    "plt.title(data_train.loc[i, 'image'], fontsize=12)\n",
    "plt.axis('off')"
   ]
  },
  {
   "cell_type": "code",
   "execution_count": 58,
   "metadata": {},
   "outputs": [],
   "source": [
    "data_size = 1882\n",
    "data_3 = []\n",
    "for i in range(data_size):\n",
    "    img_dir = data_train.loc[i, 'image']\n",
    "    image = cv2.imread(img_dir, cv2.IMREAD_GRAYSCALE)\n",
    "    image = cv2.flip(image, 0) #horizontal flip\n",
    "    image = preprocess(image)\n",
    "    image = image/255.\n",
    "    data_3.append(image)"
   ]
  },
  {
   "cell_type": "code",
   "execution_count": 59,
   "metadata": {},
   "outputs": [
    {
     "data": {
      "text/plain": [
       "(-0.5, 499.5, 63.5, -0.5)"
      ]
     },
     "execution_count": 59,
     "metadata": {},
     "output_type": "execute_result"
    },
    {
     "data": {
      "image/png": "[encoded data removed]",
      "text/plain": [
       "<Figure size 1080x144 with 1 Axes>"
      ]
     },
     "metadata": {
      "needs_background": "light"
     },
     "output_type": "display_data"
    }
   ],
   "source": [
    "plt.figure(figsize=(15, 2))\n",
    "plt.imshow(data_1[1881], cmap = 'gray')\n",
    "plt.title(data_train.loc[i, 'image'], fontsize=12)\n",
    "plt.axis('off')"
   ]
  },
  {
   "cell_type": "code",
   "execution_count": 60,
   "metadata": {},
   "outputs": [
    {
     "data": {
      "text/plain": [
       "(-0.5, 499.5, 63.5, -0.5)"
      ]
     },
     "execution_count": 60,
     "metadata": {},
     "output_type": "execute_result"
    },
    {
     "data": {
      "image/png": "[encoded data removed]",
      "text/plain": [
       "<Figure size 1080x144 with 1 Axes>"
      ]
     },
     "metadata": {
      "needs_background": "light"
     },
     "output_type": "display_data"
    }
   ],
   "source": [
    "plt.figure(figsize=(15, 2))\n",
    "plt.imshow(data_3[1881], cmap = 'gray')\n",
    "plt.title(data_train.loc[i, 'image'], fontsize=12)\n",
    "plt.axis('off')"
   ]
  },
  {
   "cell_type": "code",
   "execution_count": 61,
   "metadata": {},
   "outputs": [],
   "source": [
    "data_size = 1882\n",
    "data_4 = []\n",
    "for i in range(data_size):\n",
    "    img_dir = data_train.loc[i, 'image']\n",
    "    image = cv2.imread(img_dir, cv2.IMREAD_GRAYSCALE)\n",
    "    image = cv2.flip(image, 1) #vertical flip\n",
    "    image = preprocess(image)\n",
    "    image = image/255.\n",
    "    data_4.append(image)"
   ]
  },
  {
   "cell_type": "code",
   "execution_count": 62,
   "metadata": {
    "scrolled": true
   },
   "outputs": [
    {
     "data": {
      "text/plain": [
       "(-0.5, 499.5, 63.5, -0.5)"
      ]
     },
     "execution_count": 62,
     "metadata": {},
     "output_type": "execute_result"
    },
    {
     "data": {
      "image/png": "[encoded data removed]",
      "text/plain": [
       "<Figure size 1080x144 with 1 Axes>"
      ]
     },
     "metadata": {
      "needs_background": "light"
     },
     "output_type": "display_data"
    }
   ],
   "source": [
    "plt.figure(figsize=(15, 2))\n",
    "plt.imshow(data_4[1881], cmap = 'gray')\n",
    "plt.title(data_train.loc[i, 'image'], fontsize=12)\n",
    "plt.axis('off')"
   ]
  },
  {
   "cell_type": "code",
   "execution_count": 73,
   "metadata": {},
   "outputs": [],
   "source": [
    "from scipy import ndimage"
   ]
  },
  {
   "cell_type": "code",
   "execution_count": 74,
   "metadata": {},
   "outputs": [],
   "source": [
    "#Blurring\n",
    "data_size = 1882\n",
    "data_5 = []\n",
    "for i in range(data_size):\n",
    "    img_dir = data_train.loc[i, 'image']\n",
    "    image = cv2.imread(img_dir, cv2.IMREAD_GRAYSCALE)\n",
    "    image = ndimage.gaussian_filter(image, sigma= 0.7)\n",
    "    image = preprocess(image)\n",
    "    image = image/255.\n",
    "    data_5.append(image)"
   ]
  },
  {
   "cell_type": "code",
   "execution_count": 75,
   "metadata": {},
   "outputs": [
    {
     "data": {
      "text/plain": [
       "(-0.5, 499.5, 63.5, -0.5)"
      ]
     },
     "execution_count": 75,
     "metadata": {},
     "output_type": "execute_result"
    },
    {
     "data": {
      "image/png": "[encoded data removed]",
      "text/plain": [
       "<Figure size 1080x144 with 1 Axes>"
      ]
     },
     "metadata": {
      "needs_background": "light"
     },
     "output_type": "display_data"
    }
   ],
   "source": [
    "plt.figure(figsize=(15, 2))\n",
    "plt.imshow(data_5[1881], cmap = 'gray')\n",
    "plt.title(data_train.loc[i, 'image'], fontsize=12)\n",
    "plt.axis('off')"
   ]
  },
  {
   "cell_type": "code",
   "execution_count": 100,
   "metadata": {},
   "outputs": [],
   "source": [
    "# histogram equalization function\n",
    "def hist(img):\n",
    "    #img_to_bgr = cv2.cvtColor(img,cv2.COLOR_GRAY2BGR)\n",
    "    img_to_yuv = cv2.cvtColor(img,cv2.COLOR_BGR2YUV)\n",
    "    img_to_yuv[:,:,0] = cv2.equalizeHist(img_to_yuv[:,:,0])\n",
    "    hist_equalization_result = cv2.cvtColor(img_to_yuv, cv2.COLOR_YUV2BGR)\n",
    "    #hist_equalization_result = cv2.cvtColor(hist_equalization_result, cv2.COLOR_BGR2GRAY)\n",
    "    return hist_equalization_result"
   ]
  },
  {
   "cell_type": "code",
   "execution_count": 109,
   "metadata": {
    "scrolled": true
   },
   "outputs": [],
   "source": [
    "# histogram equalization function\n",
    "data_size = 1882\n",
    "data_6 = []\n",
    "for i in range(data_size):\n",
    "    img_dir = data_train.loc[i, 'image']\n",
    "    image = cv2.imread(img_dir)\n",
    "    hist(image)\n",
    "    image = cv2.cvtColor(image, cv2.COLOR_BGR2GRAY)\n",
    "    image = preprocess(image)\n",
    "    image = image/255.\n",
    "    data_6.append(image)"
   ]
  },
  {
   "cell_type": "code",
   "execution_count": 110,
   "metadata": {},
   "outputs": [
    {
     "data": {
      "text/plain": [
       "(64, 500)"
      ]
     },
     "execution_count": 110,
     "metadata": {},
     "output_type": "execute_result"
    }
   ],
   "source": [
    "data_6[1881].shape"
   ]
  },
  {
   "cell_type": "code",
   "execution_count": 111,
   "metadata": {},
   "outputs": [
    {
     "data": {
      "text/plain": [
       "(-0.5, 499.5, 63.5, -0.5)"
      ]
     },
     "execution_count": 111,
     "metadata": {},
     "output_type": "execute_result"
    },
    {
     "data": {
      "image/png": "[encoded data removed]",
      "text/plain": [
       "<Figure size 1080x144 with 1 Axes>"
      ]
     },
     "metadata": {
      "needs_background": "light"
     },
     "output_type": "display_data"
    }
   ],
   "source": [
    "plt.figure(figsize=(15, 2))\n",
    "plt.imshow(data_6[1881], cmap = 'gray')\n",
    "plt.title(data_train.loc[i, 'image'], fontsize=12)\n",
    "plt.axis('off')"
   ]
  },
  {
   "cell_type": "code",
   "execution_count": 118,
   "metadata": {},
   "outputs": [
    {
     "name": "stdout",
     "output_type": "stream",
     "text": [
      "[[1. 1. 1. ... 1. 1. 1.]\n",
      " [1. 1. 1. ... 1. 1. 1.]\n",
      " [1. 1. 1. ... 1. 1. 1.]\n",
      " ...\n",
      " [1. 1. 1. ... 1. 1. 1.]\n",
      " [1. 1. 1. ... 1. 1. 1.]\n",
      " [1. 1. 1. ... 1. 1. 1.]]\n",
      "\n",
      "\n",
      "[[1. 1. 1. ... 1. 1. 1.]\n",
      " [1. 1. 1. ... 1. 1. 1.]\n",
      " [1. 1. 1. ... 1. 1. 1.]\n",
      " ...\n",
      " [1. 1. 1. ... 1. 1. 1.]\n",
      " [1. 1. 1. ... 1. 1. 1.]\n",
      " [1. 1. 1. ... 1. 1. 1.]]\n"
     ]
    }
   ],
   "source": [
    "print(data_1[1881])\n",
    "print('\\n')\n",
    "print(data_6[1881])"
   ]
  },
  {
   "cell_type": "code",
   "execution_count": 115,
   "metadata": {
    "scrolled": true
   },
   "outputs": [
    {
     "data": {
      "text/plain": [
       "(-0.5, 499.5, 63.5, -0.5)"
      ]
     },
     "execution_count": 115,
     "metadata": {},
     "output_type": "execute_result"
    },
    {
     "data": {
      "image/png": "[encoded data removed]",
      "text/plain": [
       "<Figure size 1080x144 with 1 Axes>"
      ]
     },
     "metadata": {
      "needs_background": "light"
     },
     "output_type": "display_data"
    }
   ],
   "source": [
    "plt.figure(figsize=(15, 2))\n",
    "plt.imshow(data_1[1881], cmap = 'gray')\n",
    "plt.title(data_train.loc[i, 'image'], fontsize=12)\n",
    "plt.axis('off')"
   ]
  },
  {
   "cell_type": "code",
   "execution_count": 128,
   "metadata": {},
   "outputs": [],
   "source": [
    "#import random\n",
    "# function for rotation\n",
    "#def rotation(img):\n",
    "    #rows,cols = img.shape[0],img.shape[1]\n",
    "    #randDeg = random.randint(-180, 180)\n",
    "    #matrix = cv2.getRotationMatrix2D((cols/2, rows/2), randDeg, 0.70)\n",
    "    #rotated = cv2.warpAffine(img, matrix, (rows, cols), borderMode=cv2.BORDER_CONSTANT,borderValue=(144, 159, 162))\n",
    "    #return rotated "
   ]
  },
  {
   "cell_type": "code",
   "execution_count": 129,
   "metadata": {},
   "outputs": [],
   "source": [
    "#Image rotation\n",
    "#data_size = 1882\n",
    "#data_7 = []\n",
    "#for i in range(data_size):\n",
    "    #img_dir = data_train.loc[i, 'image']\n",
    "    #image = cv2.imread(img_dir, cv2.IMREAD_GRAYSCALE)\n",
    "    #image = preprocess(image)\n",
    "    #image = image/255.\n",
    "    #image = rotation(image)\n",
    "    #data_7.append(image)"
   ]
  },
  {
   "cell_type": "code",
   "execution_count": 145,
   "metadata": {},
   "outputs": [],
   "source": [
    "(data_1 , data_1_label) = data_1, data_train['label']\n",
    "(data_2 , data_2_label) = data_2, data_train['label']\n",
    "(data_3 , data_3_label) = data_3, data_train['label']\n",
    "(data_4 , data_4_label) = data_4, data_train['label']\n",
    "(data_5 , data_5_label) = data_5, data_train['label']\n",
    "(data_6 , data_6_label) = data_6, data_train['label']"
   ]
  },
  {
   "cell_type": "code",
   "execution_count": 148,
   "metadata": {},
   "outputs": [
    {
     "data": {
      "text/plain": [
       "(1882,)"
      ]
     },
     "execution_count": 148,
     "metadata": {},
     "output_type": "execute_result"
    }
   ],
   "source": [
    "data_6_label."
   ]
  },
  {
   "cell_type": "code",
   "execution_count": 150,
   "metadata": {},
   "outputs": [],
   "source": [
    "data_1 = np.asarray(data_1)\n",
    "data_2 = np.asarray(data_2)\n",
    "data_3 = np.asarray(data_3)\n",
    "data_4 = np.asarray(data_4)\n",
    "data_5 = np.asarray(data_5)\n",
    "data_6 = np.asarray(data_6)"
   ]
  },
  {
   "cell_type": "code",
   "execution_count": 157,
   "metadata": {},
   "outputs": [],
   "source": [
    "data = np.concatenate((data_1, data_2, data_3, data_4, data_5, data_6), axis=0)"
   ]
  },
  {
   "cell_type": "code",
   "execution_count": 158,
   "metadata": {},
   "outputs": [
    {
     "data": {
      "text/plain": [
       "(11292, 64, 500)"
      ]
     },
     "execution_count": 158,
     "metadata": {},
     "output_type": "execute_result"
    }
   ],
   "source": [
    "data.shape"
   ]
  },
  {
   "cell_type": "code",
   "execution_count": 160,
   "metadata": {
    "scrolled": true
   },
   "outputs": [],
   "source": [
    "from numpy import save\n",
    "from numpy import load"
   ]
  },
  {
   "cell_type": "code",
   "execution_count": 161,
   "metadata": {},
   "outputs": [],
   "source": [
    "save('data.npy', data)\n",
    "#data = load('data.npy')"
   ]
  },
  {
   "cell_type": "code",
   "execution_count": 162,
   "metadata": {},
   "outputs": [],
   "source": [
    "labels = np.concatenate((data_1_label, data_2_label, data_3_label, data_4_label, data_5_label, data_6_label), axis=0)"
   ]
  },
  {
   "cell_type": "code",
   "execution_count": 164,
   "metadata": {},
   "outputs": [
    {
     "data": {
      "text/plain": [
       "(11292,)"
      ]
     },
     "execution_count": 164,
     "metadata": {},
     "output_type": "execute_result"
    }
   ],
   "source": [
    "labels.shape"
   ]
  },
  {
   "cell_type": "code",
   "execution_count": 130,
   "metadata": {},
   "outputs": [
    {
     "data": {
      "text/plain": [
       "(1882, 64, 500)"
      ]
     },
     "execution_count": 130,
     "metadata": {},
     "output_type": "execute_result"
    }
   ],
   "source": [
    "save('labels.npy', labels)\n",
    "#data = load('la.npy')"
   ]
  },
  {
   "cell_type": "code",
   "execution_count": 135,
   "metadata": {},
   "outputs": [],
   "source": [
    "from sklearn.model_selection import train_test_split"
   ]
  },
  {
   "cell_type": "code",
   "execution_count": 136,
   "metadata": {},
   "outputs": [],
   "source": [
    "dat = np.expand_dims(data, axis=0)"
   ]
  },
  {
   "cell_type": "code",
   "execution_count": 137,
   "metadata": {},
   "outputs": [
    {
     "data": {
      "text/plain": [
       "(1882, 64, 500)"
      ]
     },
     "execution_count": 137,
     "metadata": {},
     "output_type": "execute_result"
    }
   ],
   "source": [
    "dat[0].shape"
   ]
  },
  {
   "cell_type": "code",
   "execution_count": 138,
   "metadata": {},
   "outputs": [],
   "source": [
    "X = data"
   ]
  },
  {
   "cell_type": "code",
   "execution_count": 139,
   "metadata": {},
   "outputs": [],
   "source": [
    "y = data_train['label']"
   ]
  },
  {
   "cell_type": "code",
   "execution_count": 140,
   "metadata": {
    "scrolled": false
   },
   "outputs": [
    {
     "data": {
      "text/plain": [
       "0        1\n",
       "1        1\n",
       "2        1\n",
       "3        1\n",
       "4        1\n",
       "        ..\n",
       "1877    10\n",
       "1878    10\n",
       "1879    10\n",
       "1880    10\n",
       "1881    10\n",
       "Name: label, Length: 1882, dtype: int64"
      ]
     },
     "execution_count": 140,
     "metadata": {},
     "output_type": "execute_result"
    }
   ],
   "source": [
    "y"
   ]
  },
  {
   "cell_type": "code",
   "execution_count": 141,
   "metadata": {},
   "outputs": [],
   "source": [
    "from keras.utils import to_categorical\n",
    "y = to_categorical(data_train['label'])"
   ]
  },
  {
   "cell_type": "code",
   "execution_count": 142,
   "metadata": {},
   "outputs": [
    {
     "data": {
      "text/plain": [
       "array([[0., 1., 0., ..., 0., 0., 0.],\n",
       "       [0., 1., 0., ..., 0., 0., 0.],\n",
       "       [0., 1., 0., ..., 0., 0., 0.],\n",
       "       ...,\n",
       "       [0., 0., 0., ..., 0., 0., 1.],\n",
       "       [0., 0., 0., ..., 0., 0., 1.],\n",
       "       [0., 0., 0., ..., 0., 0., 1.]], dtype=float32)"
      ]
     },
     "execution_count": 142,
     "metadata": {},
     "output_type": "execute_result"
    }
   ],
   "source": [
    "y"
   ]
  },
  {
   "cell_type": "code",
   "execution_count": 143,
   "metadata": {},
   "outputs": [],
   "source": [
    "X_train, X_test, y_train, y_test = train_test_split(X, y, test_size=0.3, random_state=101)"
   ]
  },
  {
   "cell_type": "code",
   "execution_count": 144,
   "metadata": {},
   "outputs": [
    {
     "name": "stdout",
     "output_type": "stream",
     "text": [
      "(1317, 64, 500)\n",
      "(565, 64, 500)\n",
      "(1317, 11)\n",
      "(565, 11)\n"
     ]
    }
   ],
   "source": [
    "print(X_train.shape)\n",
    "print(X_test.shape)\n",
    "print(y_train.shape)\n",
    "print(y_test.shape)"
   ]
  },
  {
   "cell_type": "code",
   "execution_count": 145,
   "metadata": {},
   "outputs": [],
   "source": [
    "#X_train = np.expand_dims(X_train, axis=0)\n",
    "#X_train.shape"
   ]
  },
  {
   "cell_type": "code",
   "execution_count": 146,
   "metadata": {},
   "outputs": [],
   "source": [
    "X_train = X_train.reshape((-1,64,500,1))\n",
    "X_test = X_test.reshape((-1,64,500,1))"
   ]
  },
  {
   "cell_type": "code",
   "execution_count": 147,
   "metadata": {},
   "outputs": [
    {
     "name": "stdout",
     "output_type": "stream",
     "text": [
      "(1317, 64, 500, 1)\n",
      "(565, 64, 500, 1)\n"
     ]
    }
   ],
   "source": [
    "print(X_train.shape)\n",
    "print(X_test.shape)"
   ]
  },
  {
   "cell_type": "code",
   "execution_count": 148,
   "metadata": {},
   "outputs": [],
   "source": [
    "#X_test = np.expand_dims(X_test, axis=0)\n",
    "#X_test.shape"
   ]
  },
  {
   "cell_type": "code",
   "execution_count": 149,
   "metadata": {},
   "outputs": [
    {
     "data": {
      "text/plain": [
       "(1317, 11)"
      ]
     },
     "execution_count": 149,
     "metadata": {},
     "output_type": "execute_result"
    }
   ],
   "source": [
    "y_train.shape"
   ]
  },
  {
   "cell_type": "code",
   "execution_count": 150,
   "metadata": {
    "scrolled": true
   },
   "outputs": [
    {
     "data": {
      "text/plain": [
       "(565, 11)"
      ]
     },
     "execution_count": 150,
     "metadata": {},
     "output_type": "execute_result"
    }
   ],
   "source": [
    "y_test.shape"
   ]
  },
  {
   "cell_type": "code",
   "execution_count": 151,
   "metadata": {},
   "outputs": [],
   "source": [
    "#batch_input_shape=(30,50,50,3)"
   ]
  },
  {
   "cell_type": "code",
   "execution_count": 152,
   "metadata": {},
   "outputs": [],
   "source": [
    "#Feature extractor using Convolutional Neural Network"
   ]
  },
  {
   "cell_type": "code",
   "execution_count": 154,
   "metadata": {},
   "outputs": [],
   "source": [
    "# import the necessary packages\n",
    "#from tensorflow.keras.models import Sequential\n",
    "#from tensorflow.keras.layers import BatchNormalization\n",
    "#from tensorflow.keras.layers import Conv2D\n",
    "#from tensorflow.keras.layers import Activation\n",
    "#from tensorflow.keras.layers import Flatten\n",
    "#from tensorflow.keras.layers import Dropout\n",
    "#from tensorflow.keras.layers import Dense\n",
    "#from tensorflow.keras import backend as K\n",
    "#from keras.models import Model"
   ]
  },
  {
   "cell_type": "code",
   "execution_count": 181,
   "metadata": {},
   "outputs": [],
   "source": [
    "import tensorflow as tf\n",
    "from keras.models import Sequential\n",
    "from keras.layers import Dense\n",
    "from keras.layers import BatchNormalization\n",
    "from keras.layers import Conv2D\n",
    "from keras.layers import Activation\n",
    "from keras.layers import Flatten\n",
    "from keras.layers import Dropout\n",
    "from keras.layers import Input\n",
    "from keras.layers import MaxPooling2D\n",
    "from keras.models import Model"
   ]
  },
  {
   "cell_type": "code",
   "execution_count": 156,
   "metadata": {
    "scrolled": true
   },
   "outputs": [
    {
     "name": "stdout",
     "output_type": "stream",
     "text": [
      "Model: \"sequential_11\"\n",
      "_________________________________________________________________\n",
      "Layer (type)                 Output Shape              Param #   \n",
      "=================================================================\n",
      "conv2d_47 (Conv2D)           (None, 29, 247, 16)       800       \n",
      "_________________________________________________________________\n",
      "conv2d_48 (Conv2D)           (None, 29, 247, 32)       12832     \n",
      "_________________________________________________________________\n",
      "batch_normalization_37 (Batc (None, 29, 247, 32)       128       \n",
      "_________________________________________________________________\n",
      "activation_43 (Activation)   (None, 29, 247, 32)       0         \n",
      "_________________________________________________________________\n",
      "conv2d_49 (Conv2D)           (None, 29, 247, 32)       25632     \n",
      "_________________________________________________________________\n",
      "batch_normalization_38 (Batc (None, 29, 247, 32)       128       \n",
      "_________________________________________________________________\n",
      "activation_44 (Activation)   (None, 29, 247, 32)       0         \n",
      "_________________________________________________________________\n",
      "dropout_19 (Dropout)         (None, 29, 247, 32)       0         \n",
      "_________________________________________________________________\n",
      "conv2d_50 (Conv2D)           (None, 29, 247, 64)       18496     \n",
      "_________________________________________________________________\n",
      "activation_45 (Activation)   (None, 29, 247, 64)       0         \n",
      "_________________________________________________________________\n",
      "batch_normalization_39 (Batc (None, 29, 247, 64)       256       \n",
      "_________________________________________________________________\n",
      "conv2d_51 (Conv2D)           (None, 15, 124, 64)       36928     \n",
      "_________________________________________________________________\n",
      "activation_46 (Activation)   (None, 15, 124, 64)       0         \n",
      "_________________________________________________________________\n",
      "batch_normalization_40 (Batc (None, 15, 124, 64)       256       \n",
      "_________________________________________________________________\n",
      "dropout_20 (Dropout)         (None, 15, 124, 64)       0         \n",
      "_________________________________________________________________\n",
      "conv2d_52 (Conv2D)           (None, 15, 124, 128)      73856     \n",
      "_________________________________________________________________\n",
      "activation_47 (Activation)   (None, 15, 124, 128)      0         \n",
      "_________________________________________________________________\n",
      "batch_normalization_41 (Batc (None, 15, 124, 128)      512       \n",
      "_________________________________________________________________\n",
      "conv2d_53 (Conv2D)           (None, 8, 62, 128)        147584    \n",
      "_________________________________________________________________\n",
      "activation_48 (Activation)   (None, 8, 62, 128)        0         \n",
      "_________________________________________________________________\n",
      "batch_normalization_42 (Batc (None, 8, 62, 128)        512       \n",
      "_________________________________________________________________\n",
      "dropout_21 (Dropout)         (None, 8, 62, 128)        0         \n",
      "_________________________________________________________________\n",
      "flatten_7 (Flatten)          (None, 63488)             0         \n",
      "_________________________________________________________________\n",
      "dense_7 (Dense)              (None, 2)                 126978    \n",
      "_________________________________________________________________\n",
      "activation_49 (Activation)   (None, 2)                 0         \n",
      "=================================================================\n",
      "Total params: 444,898\n",
      "Trainable params: 444,002\n",
      "Non-trainable params: 896\n",
      "_________________________________________________________________\n"
     ]
    }
   ],
   "source": [
    "input_data = Input(shape=(64, 500, 1), name='input')\n",
    "model = Sequential()\n",
    "model.add(Conv2D(16, (7, 7), strides=(2, 2), padding=\"valid\", kernel_initializer='he_normal', input_shape=(64, 500, 1)))\n",
    "\n",
    "model.add(Conv2D(32,(5,5),padding='same', kernel_initializer='he_normal'))\n",
    "model.add(BatchNormalization())\n",
    "model.add(Activation('relu'))\n",
    "model.add(Conv2D(32,(5,5),padding='same', kernel_initializer='he_normal'))\n",
    "model.add(BatchNormalization())\n",
    "model.add(Activation('relu'))\n",
    "#model.add(MaxPooling2D(pool_size=(2,2),strides=2,padding = 'valid'))\n",
    "model.add(Dropout(0.25))\n",
    "\n",
    "# stack two more CONV layers, keeping the size of each filter\n",
    "# as 3x3 but increasing to 64 total learned filters\n",
    "model.add(Conv2D(64, (3, 3), padding=\"same\", kernel_initializer='he_normal'))\n",
    "model.add(Activation(\"relu\"))\n",
    "model.add(BatchNormalization())\n",
    "model.add(Conv2D(64, (3, 3), strides=(2, 2), padding=\"same\", kernel_initializer='he_normal'))\n",
    "model.add(Activation(\"relu\"))\n",
    "model.add(BatchNormalization())\n",
    "model.add(Dropout(0.25))\n",
    "\n",
    "# increase the number of filters again, this time to 128\n",
    "model.add(Conv2D(128, (3, 3), padding=\"same\", kernel_initializer='he_normal'))\n",
    "model.add(Activation(\"relu\"))\n",
    "model.add(BatchNormalization())\n",
    "model.add(Conv2D(128, (3, 3), strides=(2, 2), padding=\"same\",\n",
    "kernel_initializer='he_normal'))\n",
    "model.add(Activation(\"relu\"))\n",
    "model.add(BatchNormalization())\n",
    "model.add(Dropout(0.25))\n",
    "\n",
    "model.add(Flatten())\n",
    "model.add(Dense(2))\n",
    "model.add(Activation('softmax'))\n",
    "\n",
    "model_feat = Model(inputs=model.input,outputs=model.output)\n",
    "model.summary()\n",
    "\n",
    "#feat_train = model_feat.predict(X_train)"
   ]
  },
  {
   "cell_type": "code",
   "execution_count": 157,
   "metadata": {},
   "outputs": [],
   "source": [
    "feat_train = model_feat.predict(X_train)"
   ]
  },
  {
   "cell_type": "code",
   "execution_count": 158,
   "metadata": {},
   "outputs": [
    {
     "data": {
      "text/plain": [
       "(1317, 2)"
      ]
     },
     "execution_count": 158,
     "metadata": {},
     "output_type": "execute_result"
    }
   ],
   "source": [
    "feat_train.shape"
   ]
  },
  {
   "cell_type": "code",
   "execution_count": 159,
   "metadata": {},
   "outputs": [],
   "source": [
    "feat_test = model_feat.predict(X_test)"
   ]
  },
  {
   "cell_type": "code",
   "execution_count": 160,
   "metadata": {},
   "outputs": [
    {
     "data": {
      "text/plain": [
       "(565, 2)"
      ]
     },
     "execution_count": 160,
     "metadata": {},
     "output_type": "execute_result"
    }
   ],
   "source": [
    "feat_test.shape"
   ]
  },
  {
   "cell_type": "code",
   "execution_count": 105,
   "metadata": {},
   "outputs": [],
   "source": [
    "#SVM Calssifier"
   ]
  },
  {
   "cell_type": "code",
   "execution_count": 161,
   "metadata": {},
   "outputs": [],
   "source": [
    "from sklearn.svm import SVC"
   ]
  },
  {
   "cell_type": "code",
   "execution_count": 162,
   "metadata": {},
   "outputs": [],
   "source": [
    "model = SVC(kernel='rbf')"
   ]
  },
  {
   "cell_type": "code",
   "execution_count": 163,
   "metadata": {},
   "outputs": [
    {
     "data": {
      "text/plain": [
       "SVC(C=1.0, break_ties=False, cache_size=200, class_weight=None, coef0=0.0,\n",
       "    decision_function_shape='ovr', degree=3, gamma='scale', kernel='rbf',\n",
       "    max_iter=-1, probability=False, random_state=None, shrinking=True,\n",
       "    tol=0.001, verbose=False)"
      ]
     },
     "execution_count": 163,
     "metadata": {},
     "output_type": "execute_result"
    }
   ],
   "source": [
    "model.fit(feat_train,np.argmax(y_train,axis=1))"
   ]
  },
  {
   "cell_type": "code",
   "execution_count": 165,
   "metadata": {},
   "outputs": [],
   "source": [
    "predictions = model.predict(feat_test)"
   ]
  },
  {
   "cell_type": "code",
   "execution_count": 166,
   "metadata": {},
   "outputs": [
    {
     "data": {
      "text/plain": [
       "array([10,  8, 10, 10,  8,  8, 10,  5,  5, 10,  8, 10, 10, 10, 10, 10,  8,\n",
       "       10, 10,  8,  8, 10, 10,  8,  8,  8,  5,  8,  3,  8, 10,  3,  8,  8,\n",
       "       10,  8,  8,  8,  8,  8, 10, 10, 10,  8,  8, 10, 10,  5,  5,  8,  4,\n",
       "       10,  8,  8, 10,  4, 10, 10, 10,  8, 10,  8, 10, 10, 10, 10, 10, 10,\n",
       "       10, 10,  8, 10, 10, 10, 10,  8, 10,  8, 10, 10,  8,  8, 10, 10, 10,\n",
       "       10,  8, 10,  8,  8,  3,  8,  3, 10,  8,  8,  5, 10,  4,  8,  5, 10,\n",
       "        5, 10, 10,  8,  8, 10,  8, 10, 10,  8, 10,  5, 10, 10,  8,  3, 10,\n",
       "        8, 10,  8, 10,  8,  8,  8, 10, 10,  8, 10, 10, 10,  8, 10, 10, 10,\n",
       "        5,  8,  8, 10, 10,  3,  8, 10,  8,  8, 10,  8,  8, 10, 10,  8,  3,\n",
       "        3,  5, 10, 10,  3, 10,  8, 10, 10,  8, 10, 10,  8, 10, 10, 10, 10,\n",
       "        8,  8,  8,  8,  5, 10,  8, 10, 10, 10,  8,  8,  8, 10, 10,  8,  8,\n",
       "       10, 10,  8,  3, 10, 10,  8,  5,  3,  8,  8, 10,  8, 10, 10,  5, 10,\n",
       "       10,  5, 10,  5,  8,  8, 10, 10, 10, 10,  5, 10,  8, 10,  8, 10, 10,\n",
       "       10, 10, 10,  3,  8, 10,  5, 10, 10,  8, 10,  3,  8, 10,  8, 10, 10,\n",
       "       10, 10,  3, 10, 10,  3,  8,  8, 10,  8,  8, 10,  8, 10,  8,  8,  8,\n",
       "        8,  8, 10,  5, 10,  5, 10,  5, 10,  8, 10,  8,  4,  8,  8, 10, 10,\n",
       "       10, 10, 10, 10,  8,  8, 10,  5, 10, 10,  3, 10,  8, 10, 10, 10, 10,\n",
       "       10,  5,  3,  8, 10,  5,  8, 10, 10, 10, 10,  8, 10, 10, 10,  3, 10,\n",
       "        8,  8, 10,  8,  8, 10, 10, 10, 10,  8, 10,  8,  8, 10,  8, 10,  3,\n",
       "        3, 10, 10,  8, 10, 10, 10, 10, 10, 10,  8,  8,  8, 10,  8,  8, 10,\n",
       "       10,  8, 10,  8,  5,  5,  8, 10, 10,  5,  3,  4,  5, 10,  5,  8, 10,\n",
       "       10, 10,  5, 10, 10,  8,  8,  8,  3,  3,  5,  5, 10,  5,  5,  8,  4,\n",
       "       10, 10,  8, 10, 10,  8,  5, 10, 10,  8, 10,  3, 10, 10, 10,  8, 10,\n",
       "        3,  8, 10,  8, 10, 10, 10,  8,  3, 10,  8,  8, 10,  3,  8,  3,  8,\n",
       "        5,  5, 10,  3,  8, 10, 10, 10,  8, 10, 10,  5,  8, 10, 10, 10,  8,\n",
       "        3, 10,  8, 10, 10,  3,  8,  4, 10, 10,  8,  8, 10,  8,  8,  8, 10,\n",
       "        8,  8,  8,  8, 10,  5, 10,  4, 10,  5, 10,  3,  5,  8, 10, 10,  8,\n",
       "        5,  8, 10, 10, 10, 10,  8,  8,  8,  8, 10,  8,  4, 10,  8,  8, 10,\n",
       "        4,  5, 10,  5, 10, 10, 10,  5,  8,  8,  8, 10,  8,  5,  5, 10, 10,\n",
       "       10,  4, 10,  8, 10,  5, 10,  8,  8, 10, 10,  8,  3,  4, 10, 10,  8,\n",
       "       10,  8,  8,  8,  8, 10,  8, 10, 10,  5, 10, 10, 10,  8, 10,  8, 10,\n",
       "       10,  8, 10,  8, 10, 10,  8, 10,  8, 10,  8, 10, 10,  8, 10,  8, 10,\n",
       "        8,  8, 10,  8, 10,  8,  8,  5, 10, 10, 10,  8,  4, 10, 10,  8, 10,\n",
       "       10, 10,  8,  3], dtype=int64)"
      ]
     },
     "execution_count": 166,
     "metadata": {},
     "output_type": "execute_result"
    }
   ],
   "source": [
    "predictions"
   ]
  },
  {
   "cell_type": "code",
   "execution_count": 167,
   "metadata": {},
   "outputs": [],
   "source": [
    "from sklearn.metrics import classification_report, confusion_matrix"
   ]
  },
  {
   "cell_type": "code",
   "execution_count": 169,
   "metadata": {},
   "outputs": [
    {
     "name": "stdout",
     "output_type": "stream",
     "text": [
      "[[ 0  0  4  0  1  0  0 19  0 18]\n",
      " [ 0  0  2  1  2  0  0 35  0 15]\n",
      " [ 0  0  6  1  0  0  0 24  0 27]\n",
      " [ 0  0  1  2  1  0  0 11  0 35]\n",
      " [ 0  0  2  5 23  0  0  7  0 21]\n",
      " [ 0  0  2  2 19  0  0  3  0 18]\n",
      " [ 0  0  8  1  0  0  0 34  0 32]\n",
      " [ 0  0  2  1  4  0  0 36  0 32]\n",
      " [ 0  0  4  0  0  0  0 12  0 32]\n",
      " [ 0  0  3  0  0  0  0 12  0 45]]\n",
      "\n",
      "\n",
      "              precision    recall  f1-score   support\n",
      "\n",
      "           1       0.00      0.00      0.00        42\n",
      "           2       0.00      0.00      0.00        55\n",
      "           3       0.18      0.10      0.13        58\n",
      "           4       0.15      0.04      0.06        50\n",
      "           5       0.46      0.40      0.43        58\n",
      "           6       0.00      0.00      0.00        44\n",
      "           7       0.00      0.00      0.00        75\n",
      "           8       0.19      0.48      0.27        75\n",
      "           9       0.00      0.00      0.00        48\n",
      "          10       0.16      0.75      0.27        60\n",
      "\n",
      "    accuracy                           0.20       565\n",
      "   macro avg       0.11      0.18      0.12       565\n",
      "weighted avg       0.12      0.20      0.13       565\n",
      "\n"
     ]
    },
    {
     "name": "stderr",
     "output_type": "stream",
     "text": [
      "C:\\ProgramData\\Anaconda3\\lib\\site-packages\\sklearn\\metrics\\_classification.py:1272: UndefinedMetricWarning: Precision and F-score are ill-defined and being set to 0.0 in labels with no predicted samples. Use `zero_division` parameter to control this behavior.\n",
      "  _warn_prf(average, modifier, msg_start, len(result))\n"
     ]
    }
   ],
   "source": [
    "print(confusion_matrix(np.argmax(y_test, axis = 1), predictions))\n",
    "print('\\n')\n",
    "print(classification_report(np.argmax(y_test, axis = 1), predictions))"
   ]
  },
  {
   "cell_type": "code",
   "execution_count": 177,
   "metadata": {},
   "outputs": [
    {
     "name": "stdout",
     "output_type": "stream",
     "text": [
      "Model: \"sequential_14\"\n",
      "_________________________________________________________________\n",
      "Layer (type)                 Output Shape              Param #   \n",
      "=================================================================\n",
      "conv2d_68 (Conv2D)           (None, 29, 247, 16)       800       \n",
      "_________________________________________________________________\n",
      "conv2d_69 (Conv2D)           (None, 29, 247, 32)       12832     \n",
      "_________________________________________________________________\n",
      "batch_normalization_55 (Batc (None, 29, 247, 32)       128       \n",
      "_________________________________________________________________\n",
      "activation_64 (Activation)   (None, 29, 247, 32)       0         \n",
      "_________________________________________________________________\n",
      "conv2d_70 (Conv2D)           (None, 29, 247, 32)       25632     \n",
      "_________________________________________________________________\n",
      "batch_normalization_56 (Batc (None, 29, 247, 32)       128       \n",
      "_________________________________________________________________\n",
      "activation_65 (Activation)   (None, 29, 247, 32)       0         \n",
      "_________________________________________________________________\n",
      "dropout_28 (Dropout)         (None, 29, 247, 32)       0         \n",
      "_________________________________________________________________\n",
      "conv2d_71 (Conv2D)           (None, 29, 247, 64)       18496     \n",
      "_________________________________________________________________\n",
      "activation_66 (Activation)   (None, 29, 247, 64)       0         \n",
      "_________________________________________________________________\n",
      "batch_normalization_57 (Batc (None, 29, 247, 64)       256       \n",
      "_________________________________________________________________\n",
      "conv2d_72 (Conv2D)           (None, 15, 124, 64)       36928     \n",
      "_________________________________________________________________\n",
      "activation_67 (Activation)   (None, 15, 124, 64)       0         \n",
      "_________________________________________________________________\n",
      "batch_normalization_58 (Batc (None, 15, 124, 64)       256       \n",
      "_________________________________________________________________\n",
      "dropout_29 (Dropout)         (None, 15, 124, 64)       0         \n",
      "_________________________________________________________________\n",
      "conv2d_73 (Conv2D)           (None, 15, 124, 128)      73856     \n",
      "_________________________________________________________________\n",
      "activation_68 (Activation)   (None, 15, 124, 128)      0         \n",
      "_________________________________________________________________\n",
      "batch_normalization_59 (Batc (None, 15, 124, 128)      512       \n",
      "_________________________________________________________________\n",
      "conv2d_74 (Conv2D)           (None, 8, 62, 128)        147584    \n",
      "_________________________________________________________________\n",
      "activation_69 (Activation)   (None, 8, 62, 128)        0         \n",
      "_________________________________________________________________\n",
      "batch_normalization_60 (Batc (None, 8, 62, 128)        512       \n",
      "_________________________________________________________________\n",
      "dropout_30 (Dropout)         (None, 8, 62, 128)        0         \n",
      "_________________________________________________________________\n",
      "flatten_10 (Flatten)         (None, 63488)             0         \n",
      "_________________________________________________________________\n",
      "dense_10 (Dense)             (None, 2)                 126978    \n",
      "_________________________________________________________________\n",
      "activation_70 (Activation)   (None, 2)                 0         \n",
      "=================================================================\n",
      "Total params: 444,898\n",
      "Trainable params: 444,002\n",
      "Non-trainable params: 896\n",
      "_________________________________________________________________\n"
     ]
    }
   ],
   "source": [
    "input_data = Input(shape=(64, 500, 1), name='input')\n",
    "model = Sequential()\n",
    "model.add(Conv2D(16, (7, 7), strides=(2, 2), padding=\"valid\", kernel_initializer='he_normal', input_shape=(64, 500, 1)))\n",
    "\n",
    "model.add(Conv2D(32,(5,5),padding='same', kernel_initializer='he_normal'))\n",
    "model.add(BatchNormalization())\n",
    "model.add(Activation('relu'))\n",
    "model.add(Conv2D(32,(5,5),padding='same', kernel_initializer='he_normal'))\n",
    "model.add(BatchNormalization())\n",
    "model.add(Activation('relu'))\n",
    "#model.add(MaxPooling2D(pool_size=(2,2),strides=2,padding = 'valid'))\n",
    "model.add(Dropout(0.25))\n",
    "\n",
    "# stack two more CONV layers, keeping the size of each filter\n",
    "# as 3x3 but increasing to 64 total learned filters\n",
    "model.add(Conv2D(64, (3, 3), padding=\"same\", kernel_initializer='he_normal'))\n",
    "model.add(Activation(\"relu\"))\n",
    "model.add(BatchNormalization())\n",
    "model.add(Conv2D(64, (3, 3), strides=(2, 2), padding=\"same\", kernel_initializer='he_normal'))\n",
    "model.add(Activation(\"relu\"))\n",
    "model.add(BatchNormalization())\n",
    "model.add(Dropout(0.25))\n",
    "\n",
    "# increase the number of filters again, this time to 128\n",
    "model.add(Conv2D(128, (3, 3), padding=\"same\", kernel_initializer='he_normal'))\n",
    "model.add(Activation(\"relu\"))\n",
    "model.add(BatchNormalization())\n",
    "model.add(Conv2D(128, (3, 3), strides=(2, 2), padding=\"same\",\n",
    "kernel_initializer='he_normal'))\n",
    "model.add(Activation(\"relu\"))\n",
    "model.add(BatchNormalization())\n",
    "model.add(Dropout(0.25))\n",
    "\n",
    "model.add(Flatten())\n",
    "model.add(Dense(2))\n",
    "model.add(Activation('softmax'))\n",
    "model.summary()"
   ]
  },
  {
   "cell_type": "code",
   "execution_count": 175,
   "metadata": {},
   "outputs": [],
   "source": [
    "#optimizer = keras.optimizers.rmsprop(lr = 0.0001, decay = 1e-6)"
   ]
  },
  {
   "cell_type": "code",
   "execution_count": 178,
   "metadata": {},
   "outputs": [
    {
     "ename": "ValueError",
     "evalue": "Error when checking target: expected activation_70 to have shape (2,) but got array with shape (11,)",
     "output_type": "error",
     "traceback": [
      "\u001b[1;31m---------------------------------------------------------------------------\u001b[0m",
      "\u001b[1;31mValueError\u001b[0m                                Traceback (most recent call last)",
      "\u001b[1;32m<ipython-input-178-9d094daccb43>\u001b[0m in \u001b[0;36m<module>\u001b[1;34m\u001b[0m\n\u001b[0;32m      1\u001b[0m \u001b[0mmodel\u001b[0m\u001b[1;33m.\u001b[0m\u001b[0mcompile\u001b[0m\u001b[1;33m(\u001b[0m\u001b[0mloss\u001b[0m\u001b[1;33m=\u001b[0m\u001b[1;34m'binary_crossentropy'\u001b[0m\u001b[1;33m,\u001b[0m \u001b[0moptimizer\u001b[0m\u001b[1;33m=\u001b[0m\u001b[1;34m'adam'\u001b[0m\u001b[1;33m,\u001b[0m \u001b[0mmetrics\u001b[0m\u001b[1;33m=\u001b[0m\u001b[1;33m[\u001b[0m\u001b[1;34m'accuracy'\u001b[0m\u001b[1;33m]\u001b[0m\u001b[1;33m)\u001b[0m\u001b[1;33m\u001b[0m\u001b[1;33m\u001b[0m\u001b[0m\n\u001b[0;32m      2\u001b[0m \u001b[1;33m\u001b[0m\u001b[0m\n\u001b[1;32m----> 3\u001b[1;33m \u001b[0mmodel\u001b[0m\u001b[1;33m.\u001b[0m\u001b[0mfit\u001b[0m\u001b[1;33m(\u001b[0m\u001b[0mX_train\u001b[0m\u001b[1;33m,\u001b[0m \u001b[0my_train\u001b[0m\u001b[1;33m,\u001b[0m\u001b[0mepochs\u001b[0m\u001b[1;33m=\u001b[0m\u001b[1;36m1\u001b[0m\u001b[1;33m,\u001b[0m \u001b[0mbatch_size\u001b[0m\u001b[1;33m=\u001b[0m\u001b[1;36m1\u001b[0m\u001b[1;33m,\u001b[0m \u001b[0mverbose\u001b[0m\u001b[1;33m=\u001b[0m\u001b[1;36m1\u001b[0m\u001b[1;33m)\u001b[0m\u001b[1;33m\u001b[0m\u001b[1;33m\u001b[0m\u001b[0m\n\u001b[0m",
      "\u001b[1;32mC:\\ProgramData\\Anaconda3\\lib\\site-packages\\keras\\engine\\training.py\u001b[0m in \u001b[0;36mfit\u001b[1;34m(self, x, y, batch_size, epochs, verbose, callbacks, validation_split, validation_data, shuffle, class_weight, sample_weight, initial_epoch, steps_per_epoch, validation_steps, validation_freq, max_queue_size, workers, use_multiprocessing, **kwargs)\u001b[0m\n\u001b[0;32m   1152\u001b[0m             \u001b[0msample_weight\u001b[0m\u001b[1;33m=\u001b[0m\u001b[0msample_weight\u001b[0m\u001b[1;33m,\u001b[0m\u001b[1;33m\u001b[0m\u001b[1;33m\u001b[0m\u001b[0m\n\u001b[0;32m   1153\u001b[0m             \u001b[0mclass_weight\u001b[0m\u001b[1;33m=\u001b[0m\u001b[0mclass_weight\u001b[0m\u001b[1;33m,\u001b[0m\u001b[1;33m\u001b[0m\u001b[1;33m\u001b[0m\u001b[0m\n\u001b[1;32m-> 1154\u001b[1;33m             batch_size=batch_size)\n\u001b[0m\u001b[0;32m   1155\u001b[0m \u001b[1;33m\u001b[0m\u001b[0m\n\u001b[0;32m   1156\u001b[0m         \u001b[1;31m# Prepare validation data.\u001b[0m\u001b[1;33m\u001b[0m\u001b[1;33m\u001b[0m\u001b[1;33m\u001b[0m\u001b[0m\n",
      "\u001b[1;32mC:\\ProgramData\\Anaconda3\\lib\\site-packages\\keras\\engine\\training.py\u001b[0m in \u001b[0;36m_standardize_user_data\u001b[1;34m(self, x, y, sample_weight, class_weight, check_array_lengths, batch_size)\u001b[0m\n\u001b[0;32m    619\u001b[0m                 \u001b[0mfeed_output_shapes\u001b[0m\u001b[1;33m,\u001b[0m\u001b[1;33m\u001b[0m\u001b[1;33m\u001b[0m\u001b[0m\n\u001b[0;32m    620\u001b[0m                 \u001b[0mcheck_batch_axis\u001b[0m\u001b[1;33m=\u001b[0m\u001b[1;32mFalse\u001b[0m\u001b[1;33m,\u001b[0m  \u001b[1;31m# Don't enforce the batch size.\u001b[0m\u001b[1;33m\u001b[0m\u001b[1;33m\u001b[0m\u001b[0m\n\u001b[1;32m--> 621\u001b[1;33m                 exception_prefix='target')\n\u001b[0m\u001b[0;32m    622\u001b[0m \u001b[1;33m\u001b[0m\u001b[0m\n\u001b[0;32m    623\u001b[0m             \u001b[1;31m# Generate sample-wise weight values given the `sample_weight` and\u001b[0m\u001b[1;33m\u001b[0m\u001b[1;33m\u001b[0m\u001b[1;33m\u001b[0m\u001b[0m\n",
      "\u001b[1;32mC:\\ProgramData\\Anaconda3\\lib\\site-packages\\keras\\engine\\training_utils.py\u001b[0m in \u001b[0;36mstandardize_input_data\u001b[1;34m(data, names, shapes, check_batch_axis, exception_prefix)\u001b[0m\n\u001b[0;32m    143\u001b[0m                             \u001b[1;34m': expected '\u001b[0m \u001b[1;33m+\u001b[0m \u001b[0mnames\u001b[0m\u001b[1;33m[\u001b[0m\u001b[0mi\u001b[0m\u001b[1;33m]\u001b[0m \u001b[1;33m+\u001b[0m \u001b[1;34m' to have shape '\u001b[0m \u001b[1;33m+\u001b[0m\u001b[1;33m\u001b[0m\u001b[1;33m\u001b[0m\u001b[0m\n\u001b[0;32m    144\u001b[0m                             \u001b[0mstr\u001b[0m\u001b[1;33m(\u001b[0m\u001b[0mshape\u001b[0m\u001b[1;33m)\u001b[0m \u001b[1;33m+\u001b[0m \u001b[1;34m' but got array with shape '\u001b[0m \u001b[1;33m+\u001b[0m\u001b[1;33m\u001b[0m\u001b[1;33m\u001b[0m\u001b[0m\n\u001b[1;32m--> 145\u001b[1;33m                             str(data_shape))\n\u001b[0m\u001b[0;32m    146\u001b[0m     \u001b[1;32mreturn\u001b[0m \u001b[0mdata\u001b[0m\u001b[1;33m\u001b[0m\u001b[1;33m\u001b[0m\u001b[0m\n\u001b[0;32m    147\u001b[0m \u001b[1;33m\u001b[0m\u001b[0m\n",
      "\u001b[1;31mValueError\u001b[0m: Error when checking target: expected activation_70 to have shape (2,) but got array with shape (11,)"
     ]
    }
   ],
   "source": [
    "model.compile(loss='binary_crossentropy', optimizer='adam', metrics=['accuracy'])\n",
    "                   \n",
    "model.fit(X_train, y_train,epochs=1, batch_size=1, verbose=1)"
   ]
  },
  {
   "cell_type": "code",
   "execution_count": 185,
   "metadata": {},
   "outputs": [
    {
     "name": "stdout",
     "output_type": "stream",
     "text": [
      "WARNING:tensorflow:Large dropout rate: 0.6 (>0.5). In TensorFlow 2.x, dropout() uses dropout rate instead of keep_prob. Please ensure that this is intended.\n"
     ]
    }
   ],
   "source": [
    "model = Sequential()\n",
    "model.add(Conv2D(16,(5,5),padding='valid',input_shape = (64, 500, 1)))\n",
    "model.add(Activation('relu'))\n",
    "model.add(MaxPooling2D(pool_size=(2,2),strides=2,padding = 'valid'))\n",
    "model.add(Dropout(0.4))\n",
    "model.add(Conv2D(32,(5,5),padding='valid'))\n",
    "model.add(Activation('relu'))\n",
    "model.add(MaxPooling2D(pool_size=(2,2),strides=2,padding = 'valid'))\n",
    "model.add(Dropout(0.6))\n",
    "model.add(Conv2D(64,(5,5),padding='valid'))\n",
    "model.add(Activation('relu'))\n",
    "model.add(Dropout(0.8))\n",
    "model.add(Flatten())\n",
    "model.add(Dense(2))\n",
    "model.add(Activation('softmax'))\n",
    "\n",
    "model_feat = Model(inputs=model.input,outputs=model.output)\n",
    "feat_train = model_feat.predict(X_train)"
   ]
  },
  {
   "cell_type": "code",
   "execution_count": 186,
   "metadata": {},
   "outputs": [],
   "source": [
    "feat_train = model_feat.predict(X_train)"
   ]
  },
  {
   "cell_type": "code",
   "execution_count": 187,
   "metadata": {},
   "outputs": [],
   "source": [
    "feat_test = model_feat.predict(X_test)"
   ]
  },
  {
   "cell_type": "code",
   "execution_count": 188,
   "metadata": {},
   "outputs": [],
   "source": [
    "model = SVC(kernel='rbf')"
   ]
  },
  {
   "cell_type": "code",
   "execution_count": 189,
   "metadata": {},
   "outputs": [
    {
     "data": {
      "text/plain": [
       "SVC(C=1.0, break_ties=False, cache_size=200, class_weight=None, coef0=0.0,\n",
       "    decision_function_shape='ovr', degree=3, gamma='scale', kernel='rbf',\n",
       "    max_iter=-1, probability=False, random_state=None, shrinking=True,\n",
       "    tol=0.001, verbose=False)"
      ]
     },
     "execution_count": 189,
     "metadata": {},
     "output_type": "execute_result"
    }
   ],
   "source": [
    "model.fit(feat_train,np.argmax(y_train,axis=1))"
   ]
  },
  {
   "cell_type": "code",
   "execution_count": 190,
   "metadata": {},
   "outputs": [],
   "source": [
    "predictions = model.predict(feat_test)"
   ]
  },
  {
   "cell_type": "code",
   "execution_count": 191,
   "metadata": {},
   "outputs": [
    {
     "name": "stdout",
     "output_type": "stream",
     "text": [
      "[[ 0 18  0  3  1  0  5  4  0 11]\n",
      " [ 0 23  0  2  2  1 10  3  0 14]\n",
      " [ 0  2  2  7  0  0  9  1  0 37]\n",
      " [ 0  1  2  7  0  1  9  0  0 30]\n",
      " [ 0 16  1  3  2  3 11  6  0 16]\n",
      " [ 0 16  0  4  0  2  5  5  0 12]\n",
      " [ 0  5  4  5  0  1 23  1  0 36]\n",
      " [ 0 11  5  4  1  1 20  7  0 26]\n",
      " [ 0  0  2  4  0  0 11  0  0 31]\n",
      " [ 0  0  2  4  0  0  7  0  0 47]]\n",
      "\n",
      "\n",
      "              precision    recall  f1-score   support\n",
      "\n",
      "           1       0.00      0.00      0.00        42\n",
      "           2       0.25      0.42      0.31        55\n",
      "           3       0.11      0.03      0.05        58\n",
      "           4       0.16      0.14      0.15        50\n",
      "           5       0.33      0.03      0.06        58\n",
      "           6       0.22      0.05      0.08        44\n",
      "           7       0.21      0.31      0.25        75\n",
      "           8       0.26      0.09      0.14        75\n",
      "           9       0.00      0.00      0.00        48\n",
      "          10       0.18      0.78      0.29        60\n",
      "\n",
      "    accuracy                           0.20       565\n",
      "   macro avg       0.17      0.19      0.13       565\n",
      "weighted avg       0.18      0.20      0.14       565\n",
      "\n"
     ]
    },
    {
     "name": "stderr",
     "output_type": "stream",
     "text": [
      "C:\\ProgramData\\Anaconda3\\lib\\site-packages\\sklearn\\metrics\\_classification.py:1272: UndefinedMetricWarning: Precision and F-score are ill-defined and being set to 0.0 in labels with no predicted samples. Use `zero_division` parameter to control this behavior.\n",
      "  _warn_prf(average, modifier, msg_start, len(result))\n"
     ]
    }
   ],
   "source": [
    "print(confusion_matrix(np.argmax(y_test, axis = 1), predictions))\n",
    "print('\\n')\n",
    "print(classification_report(np.argmax(y_test, axis = 1), predictions))"
   ]
  },
  {
   "cell_type": "code",
   "execution_count": 192,
   "metadata": {},
   "outputs": [],
   "source": [
    "model = Sequential()\n",
    "\n",
    "model.add(Conv2D(16,(5,5),padding='valid',input_shape = (64, 500, 1)))\n",
    "model.add(Activation('relu'))\n",
    "model.add(MaxPooling2D(pool_size=(2,2),strides=2,padding = 'valid'))\n",
    "model.add(Dropout(0.4))\n",
    "\n",
    "model.add(Conv2D(32,(5,5),padding='valid'))\n",
    "model.add(Activation('relu'))\n",
    "model.add(MaxPooling2D(pool_size=(2,2),strides=2,padding = 'valid'))\n",
    "model.add(Dropout(0.6))\n",
    "\n",
    "model.add(Conv2D(64,(5,5),padding='valid'))\n",
    "model.add(Activation('relu'))\n",
    "model.add(Dropout(0.8))\n",
    "\n",
    "model.add(Flatten())\n",
    "model.add(Dense(11))\n",
    "model.add(Activation('softmax'))"
   ]
  },
  {
   "cell_type": "code",
   "execution_count": 196,
   "metadata": {},
   "outputs": [
    {
     "name": "stdout",
     "output_type": "stream",
     "text": [
      "Epoch 1/1\n",
      "1317/1317 [==============================] - 100s 76ms/step - loss: 1.2985 - accuracy: 0.5232\n"
     ]
    },
    {
     "data": {
      "text/plain": [
       "<keras.callbacks.callbacks.History at 0x84b354a108>"
      ]
     },
     "execution_count": 196,
     "metadata": {},
     "output_type": "execute_result"
    }
   ],
   "source": [
    "model.compile(loss='categorical_crossentropy', optimizer='adam', metrics=['accuracy'])\n",
    "                   \n",
    "model.fit(X_train, y_train,epochs=1, batch_size=1, verbose=1)"
   ]
  },
  {
   "cell_type": "code",
   "execution_count": 199,
   "metadata": {},
   "outputs": [],
   "source": [
    "y_pred = np.argmax(model.predict(X_test), axis=-1)"
   ]
  },
  {
   "cell_type": "code",
   "execution_count": 200,
   "metadata": {},
   "outputs": [
    {
     "data": {
      "text/plain": [
       "array([10,  2,  7,  7,  7,  7,  4,  5,  5,  7,  2, 10,  7,  4,  2,  5,  7,\n",
       "        5, 10,  4,  2, 10,  6,  3,  2,  2,  5,  4,  1, 10,  8,  3, 10,  3,\n",
       "        7,  4,  8,  2,  7,  5,  7,  7,  7,  7, 10, 10,  5,  6,  6,  8,  4,\n",
       "        7, 10,  2, 10, 10, 10,  4,  4,  7,  5,  5,  8,  6,  4,  8, 10,  7,\n",
       "        5,  4,  7,  4,  2,  6,  5,  8,  4, 10, 10,  8,  7,  7,  4,  3,  5,\n",
       "       10,  8,  7,  7,  7, 10,  7, 10, 10,  8,  7,  6,  7,  4,  5,  5,  7,\n",
       "        5, 10,  7,  7,  7,  5,  4, 10,  6,  7,  2,  5,  7,  4,  7, 10,  7,\n",
       "        3, 10,  6,  2,  2,  8,  4, 10, 10,  4, 10,  2,  8,  7,  3, 10, 10,\n",
       "        5,  8, 10,  7,  6, 10,  3,  7,  2,  2, 10, 10,  2, 10,  5, 10,  2,\n",
       "        6,  5,  7, 10, 10, 10,  3,  4,  4,  2, 10,  3,  8,  7,  7,  4, 10,\n",
       "        2,  2,  7,  2,  5,  4,  2,  6,  4,  5,  7,  7,  2, 10, 10,  7,  7,\n",
       "       10,  3,  2, 10, 10,  6,  5,  6,  7,  8,  7, 10,  3,  7, 10,  5,  7,\n",
       "        7,  5, 10,  6,  8,  7,  5, 10,  7,  5,  5,  7,  7,  6,  7,  7,  7,\n",
       "        5, 10, 10, 10,  2, 10,  7,  7,  8, 10,  7,  5,  7,  2,  2,  4,  7,\n",
       "       10,  6,  7,  2,  5,  5,  8,  3,  7,  2,  2,  4,  2, 10, 10, 10,  7,\n",
       "        7,  7,  3,  5, 10,  5,  7,  5,  7,  1, 10,  7,  5,  2,  2, 10,  3,\n",
       "       10,  4,  7, 10,  8,  5, 10,  5,  8,  7,  6, 10,  7,  4,  4,  4, 10,\n",
       "        4,  6,  3,  4,  3, 10,  2, 10,  4,  2,  7, 10, 10,  2, 10,  7, 10,\n",
       "        2, 10,  6,  7,  8, 10,  7,  8,  4,  7,  7,  2,  7,  5,  7,  7,  7,\n",
       "        6,  4,  7,  4,  7,  5, 10, 10, 10,  7,  7,  7,  7, 10,  7,  2,  2,\n",
       "        7,  2,  7,  7,  4,  6,  7,  6,  7,  2,  2,  7,  5, 10,  2,  8,  7,\n",
       "       10, 10,  6,  2,  5,  2,  7,  2,  7,  7,  5,  5, 10,  7,  5,  7,  8,\n",
       "        5,  2,  7,  4,  6,  7,  5, 10, 10,  2,  4,  7, 10,  7, 10,  8,  2,\n",
       "        5,  7,  5,  2,  3,  7,  2,  2,  7, 10,  7,  2,  4,  7,  3,  7,  2,\n",
       "        2,  5,  9,  4,  3, 10,  7, 10,  2,  7, 10,  8,  7,  5,  7,  8,  7,\n",
       "        7,  7,  2,  2,  5,  6,  7, 10, 10, 10,  8,  7,  2,  7,  7,  2, 10,\n",
       "       10,  7,  4, 10,  4,  5,  2,  5,  5,  6,  7, 10,  5,  7,  7, 10,  2,\n",
       "        5,  7,  7, 10, 10, 10,  7,  7,  8,  8, 10,  2,  5,  8,  7,  4, 10,\n",
       "        5,  6, 10,  5,  7,  4,  7,  5,  7,  4,  2,  4,  2,  5,  6,  6, 10,\n",
       "        7,  5,  7,  8,  5,  5,  6,  2,  7,  7,  6,  5,  2,  5, 10,  5,  7,\n",
       "       10,  2,  7,  7,  4,  2,  3,  7, 10,  5, 10,  6,  8,  7,  2,  2, 10,\n",
       "        8,  9,  5,  7,  2,  8,  4, 10,  7, 10,  3,  2, 10, 10,  7,  7,  7,\n",
       "        8,  7, 10,  7,  4,  3,  2,  6,  7, 10, 10,  2,  5,  5,  3,  8,  7,\n",
       "       10,  4,  7, 10], dtype=int64)"
      ]
     },
     "execution_count": 200,
     "metadata": {},
     "output_type": "execute_result"
    }
   ],
   "source": [
    "y_pred "
   ]
  },
  {
   "cell_type": "code",
   "execution_count": 201,
   "metadata": {},
   "outputs": [
    {
     "name": "stdout",
     "output_type": "stream",
     "text": [
      "[[ 2 24  2  0  2  0 10  1  0  1]\n",
      " [ 0 44  2  1  5  0  3  0  0  0]\n",
      " [ 0  1 14 15  2  0 17  0  0  9]\n",
      " [ 0  0  0 24  0  0  6  0  0 20]\n",
      " [ 0  3  0  0 51  2  0  0  0  2]\n",
      " [ 0  2  0  0 12 29  0  0  0  1]\n",
      " [ 0  0  2  2  0  1 56  6  0  8]\n",
      " [ 0  2  2  0  0  1 37 29  0  4]\n",
      " [ 0  0  1  3  0  0 19  0  2 23]\n",
      " [ 0  0  0  5  0  0  5  0  0 50]]\n",
      "\n",
      "\n",
      "              precision    recall  f1-score   support\n",
      "\n",
      "           1       1.00      0.05      0.09        42\n",
      "           2       0.58      0.80      0.67        55\n",
      "           3       0.61      0.24      0.35        58\n",
      "           4       0.48      0.48      0.48        50\n",
      "           5       0.71      0.88      0.78        58\n",
      "           6       0.88      0.66      0.75        44\n",
      "           7       0.37      0.75      0.49        75\n",
      "           8       0.81      0.39      0.52        75\n",
      "           9       1.00      0.04      0.08        48\n",
      "          10       0.42      0.83      0.56        60\n",
      "\n",
      "    accuracy                           0.53       565\n",
      "   macro avg       0.69      0.51      0.48       565\n",
      "weighted avg       0.66      0.53      0.49       565\n",
      "\n"
     ]
    }
   ],
   "source": [
    "print(confusion_matrix(np.argmax(y_test, axis = 1), y_pred))\n",
    "print('\\n')\n",
    "print(classification_report(np.argmax(y_test, axis = 1), y_pred))"
   ]
  },
  {
   "cell_type": "code",
   "execution_count": 202,
   "metadata": {},
   "outputs": [
    {
     "name": "stdout",
     "output_type": "stream",
     "text": [
      "Model: \"sequential_20\"\n",
      "_________________________________________________________________\n",
      "Layer (type)                 Output Shape              Param #   \n",
      "=================================================================\n",
      "conv2d_88 (Conv2D)           (None, 29, 247, 16)       800       \n",
      "_________________________________________________________________\n",
      "conv2d_89 (Conv2D)           (None, 29, 247, 32)       12832     \n",
      "_________________________________________________________________\n",
      "batch_normalization_61 (Batc (None, 29, 247, 32)       128       \n",
      "_________________________________________________________________\n",
      "activation_88 (Activation)   (None, 29, 247, 32)       0         \n",
      "_________________________________________________________________\n",
      "conv2d_90 (Conv2D)           (None, 29, 247, 32)       25632     \n",
      "_________________________________________________________________\n",
      "batch_normalization_62 (Batc (None, 29, 247, 32)       128       \n",
      "_________________________________________________________________\n",
      "activation_89 (Activation)   (None, 29, 247, 32)       0         \n",
      "_________________________________________________________________\n",
      "dropout_43 (Dropout)         (None, 29, 247, 32)       0         \n",
      "_________________________________________________________________\n",
      "conv2d_91 (Conv2D)           (None, 29, 247, 64)       18496     \n",
      "_________________________________________________________________\n",
      "activation_90 (Activation)   (None, 29, 247, 64)       0         \n",
      "_________________________________________________________________\n",
      "batch_normalization_63 (Batc (None, 29, 247, 64)       256       \n",
      "_________________________________________________________________\n",
      "conv2d_92 (Conv2D)           (None, 15, 124, 64)       36928     \n",
      "_________________________________________________________________\n",
      "activation_91 (Activation)   (None, 15, 124, 64)       0         \n",
      "_________________________________________________________________\n",
      "batch_normalization_64 (Batc (None, 15, 124, 64)       256       \n",
      "_________________________________________________________________\n",
      "dropout_44 (Dropout)         (None, 15, 124, 64)       0         \n",
      "_________________________________________________________________\n",
      "conv2d_93 (Conv2D)           (None, 15, 124, 128)      73856     \n",
      "_________________________________________________________________\n",
      "activation_92 (Activation)   (None, 15, 124, 128)      0         \n",
      "_________________________________________________________________\n",
      "batch_normalization_65 (Batc (None, 15, 124, 128)      512       \n",
      "_________________________________________________________________\n",
      "conv2d_94 (Conv2D)           (None, 8, 62, 128)        147584    \n",
      "_________________________________________________________________\n",
      "activation_93 (Activation)   (None, 8, 62, 128)        0         \n",
      "_________________________________________________________________\n",
      "batch_normalization_66 (Batc (None, 8, 62, 128)        512       \n",
      "_________________________________________________________________\n",
      "dropout_45 (Dropout)         (None, 8, 62, 128)        0         \n",
      "_________________________________________________________________\n",
      "flatten_15 (Flatten)         (None, 63488)             0         \n",
      "_________________________________________________________________\n",
      "dense_15 (Dense)             (None, 11)                698379    \n",
      "_________________________________________________________________\n",
      "activation_94 (Activation)   (None, 11)                0         \n",
      "=================================================================\n",
      "Total params: 1,016,299\n",
      "Trainable params: 1,015,403\n",
      "Non-trainable params: 896\n",
      "_________________________________________________________________\n"
     ]
    }
   ],
   "source": [
    "input_data = Input(shape=(64, 500, 1), name='input')\n",
    "model = Sequential()\n",
    "model.add(Conv2D(16, (7, 7), strides=(2, 2), padding=\"valid\", kernel_initializer='he_normal', input_shape=(64, 500, 1)))\n",
    "\n",
    "model.add(Conv2D(32,(5,5),padding='same', kernel_initializer='he_normal'))\n",
    "model.add(BatchNormalization())\n",
    "model.add(Activation('relu'))\n",
    "model.add(Conv2D(32,(5,5),padding='same', kernel_initializer='he_normal'))\n",
    "model.add(BatchNormalization())\n",
    "model.add(Activation('relu'))\n",
    "#model.add(MaxPooling2D(pool_size=(2,2),strides=2,padding = 'valid'))\n",
    "model.add(Dropout(0.25))\n",
    "\n",
    "# stack two more CONV layers, keeping the size of each filter\n",
    "# as 3x3 but increasing to 64 total learned filters\n",
    "model.add(Conv2D(64, (3, 3), padding=\"same\", kernel_initializer='he_normal'))\n",
    "model.add(Activation(\"relu\"))\n",
    "model.add(BatchNormalization())\n",
    "model.add(Conv2D(64, (3, 3), strides=(2, 2), padding=\"same\", kernel_initializer='he_normal'))\n",
    "model.add(Activation(\"relu\"))\n",
    "model.add(BatchNormalization())\n",
    "model.add(Dropout(0.25))\n",
    "\n",
    "# increase the number of filters again, this time to 128\n",
    "model.add(Conv2D(128, (3, 3), padding=\"same\", kernel_initializer='he_normal'))\n",
    "model.add(Activation(\"relu\"))\n",
    "model.add(BatchNormalization())\n",
    "model.add(Conv2D(128, (3, 3), strides=(2, 2), padding=\"same\",\n",
    "kernel_initializer='he_normal'))\n",
    "model.add(Activation(\"relu\"))\n",
    "model.add(BatchNormalization())\n",
    "model.add(Dropout(0.25))\n",
    "\n",
    "model.add(Flatten())\n",
    "model.add(Dense(11))\n",
    "model.add(Activation('softmax'))\n",
    "model.summary()"
   ]
  },
  {
   "cell_type": "code",
   "execution_count": 203,
   "metadata": {},
   "outputs": [
    {
     "name": "stdout",
     "output_type": "stream",
     "text": [
      "Epoch 1/1\n",
      "1317/1317 [==============================] - 380s 289ms/step - loss: 21.6481 - accuracy: 0.3804\n"
     ]
    },
    {
     "data": {
      "text/plain": [
       "<keras.callbacks.callbacks.History at 0x8500f6d0c8>"
      ]
     },
     "execution_count": 203,
     "metadata": {},
     "output_type": "execute_result"
    }
   ],
   "source": [
    "model.compile(loss='categorical_crossentropy', optimizer='adam', metrics=['accuracy'])\n",
    "                   \n",
    "model.fit(X_train, y_train,epochs=1, batch_size=1, verbose=1)"
   ]
  },
  {
   "cell_type": "code",
   "execution_count": 204,
   "metadata": {},
   "outputs": [
    {
     "name": "stdout",
     "output_type": "stream",
     "text": [
      "[[ 0  0  0  0  0  0  0  0  0  0  0]\n",
      " [ 7  1 20  3  1  2  0  5  3  0  0]\n",
      " [ 5  2 33  3  1  5  0  6  0  0  0]\n",
      " [ 0  1  1 45  5  1  1  3  0  0  1]\n",
      " [ 1  0  0  3 37  0  0  4  0  2  3]\n",
      " [ 8  0  4  0  1 25 19  0  1  0  0]\n",
      " [ 4  0  5  0  1 15 19  0  0  0  0]\n",
      " [ 0  0  0 13  0  1  4 35 20  1  1]\n",
      " [ 1  0  0  4  0  1  0 27 39  2  1]\n",
      " [ 0  0  0 10  1  0  4  4  2 17 10]\n",
      " [ 0  0  0  5 11  0  2  1  0  1 40]]\n",
      "\n",
      "\n",
      "              precision    recall  f1-score   support\n",
      "\n",
      "           0       0.00      0.00      0.00         0\n",
      "           1       0.25      0.02      0.04        42\n",
      "           2       0.52      0.60      0.56        55\n",
      "           3       0.52      0.78      0.62        58\n",
      "           4       0.64      0.74      0.69        50\n",
      "           5       0.50      0.43      0.46        58\n",
      "           6       0.39      0.43      0.41        44\n",
      "           7       0.41      0.47      0.44        75\n",
      "           8       0.60      0.52      0.56        75\n",
      "           9       0.74      0.35      0.48        48\n",
      "          10       0.71      0.67      0.69        60\n",
      "\n",
      "    accuracy                           0.52       565\n",
      "   macro avg       0.48      0.46      0.45       565\n",
      "weighted avg       0.53      0.52      0.51       565\n",
      "\n"
     ]
    },
    {
     "name": "stderr",
     "output_type": "stream",
     "text": [
      "C:\\ProgramData\\Anaconda3\\lib\\site-packages\\sklearn\\metrics\\_classification.py:1272: UndefinedMetricWarning: Recall and F-score are ill-defined and being set to 0.0 in labels with no true samples. Use `zero_division` parameter to control this behavior.\n",
      "  _warn_prf(average, modifier, msg_start, len(result))\n"
     ]
    }
   ],
   "source": [
    "y_pred = np.argmax(model.predict(X_test), axis=-1)\n",
    "print(confusion_matrix(np.argmax(y_test, axis = 1), y_pred))\n",
    "print('\\n')\n",
    "print(classification_report(np.argmax(y_test, axis = 1), y_pred))"
   ]
  },
  {
   "cell_type": "code",
   "execution_count": null,
   "metadata": {},
   "outputs": [],
   "source": []
  }
 ],
 "metadata": {
  "kernelspec": {
   "display_name": "Python 3",
   "language": "python",
   "name": "python3"
  },
  "language_info": {
   "codemirror_mode": {
    "name": "ipython",
    "version": 3
   },
   "file_extension": ".py",
   "mimetype": "text/x-python",
   "name": "python",
   "nbconvert_exporter": "python",
   "pygments_lexer": "ipython3",
   "version": "3.7.6"
  }
 },
 "nbformat": 4,
 "nbformat_minor": 4
}
